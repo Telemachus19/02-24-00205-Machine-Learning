{
  "cells": [
    {
      "cell_type": "markdown",
      "metadata": {
        "id": "view-in-github",
        "colab_type": "text"
      },
      "source": [
        "<a href=\"https://colab.research.google.com/github/Telemachus19/02-24-00205-Machine-Learning/blob/main/Homework/HomeWork1.ipynb\" target=\"_parent\"><img src=\"https://colab.research.google.com/assets/colab-badge.svg\" alt=\"Open In Colab\"/></a>"
      ]
    },
    {
      "cell_type": "markdown",
      "metadata": {
        "id": "bYmPlMtSh2Lw"
      },
      "source": [
        "# day06: Gradient Descent for Linear Regression\n",
        "\n",
        "# Objectives\n",
        "\n",
        "* Learn how to fit weight parameters of Linear Regression to a simple dataset via gradient descent\n",
        "* Understand impact of step size\n",
        "* Understand impact of initialization\n",
        "\n",
        "\n",
        "# Outline\n",
        "* [Part 1: Loss and Gradient for 1-dim. Linear Regression](#part1)\n",
        "* [Part 2: Gradient Descent Algorithm in a few lines of Python](#part2)\n",
        "* [Part 3: Debugging with Trace Plots](#part3)\n",
        "* [Part 4: Selecting the step size](#part4)\n",
        "* [Part 5: Selecting the initialization](#part5)\n",
        "* [Part 6: Using SciPy's built-in routines](#part6)\n",
        "\n",
        "# Takeaways\n",
        "\n",
        "\n",
        "* Gradient descent is a simple algorithm that can be implemented in a few lines of Python\n",
        "* * Practical issues include selecting step size and initialization\n",
        "* Step size matters a lot\n",
        "* * Need to select carefully for each problem\n",
        "\n",
        "* Initialization of the parameters can matter too!\n",
        "\n",
        "* scipy offers some useful tools for gradient-based optimization\n",
        "* * scipy's toolbox cannot do scalable \"stochastic\" methods (requires a modest size dataset, not too big)\n",
        "* * \"L-BFGS-B\" method is highly recommended if you have your loss and gradient functions available\n"
      ]
    },
    {
      "cell_type": "code",
      "execution_count": null,
      "metadata": {
        "id": "cibQmX2_h2L5"
      },
      "outputs": [],
      "source": [
        "import numpy as np"
      ]
    },
    {
      "cell_type": "code",
      "execution_count": null,
      "metadata": {
        "id": "0NAMw06Jh2L8"
      },
      "outputs": [],
      "source": [
        "# import plotting libraries\n",
        "import matplotlib\n",
        "import matplotlib.pyplot as plt\n",
        "\n",
        "%matplotlib inline\n",
        "plt.style.use('seaborn') # pretty matplotlib plots\n",
        "\n",
        "import seaborn as sns\n",
        "sns.set('notebook', font_scale=1.25, style='whitegrid')"
      ]
    },
    {
      "cell_type": "markdown",
      "metadata": {
        "id": "0QV78qJVh2L-"
      },
      "source": [
        "# Create simple dataset:   y = 1.234 * x + noise\n",
        "\n",
        "We will *intentionally* create a toy dataset where we know that a good solution has slope near 1.234.\n",
        "\n",
        "Naturally, the best slope for the finite dataset of N=100 examples we create won't be exactly 1.234 (because of the noise added plus the fact that our dataset size is limited)."
      ]
    },
    {
      "cell_type": "code",
      "execution_count": null,
      "metadata": {
        "id": "qDRXRkrUh2MA"
      },
      "outputs": [],
      "source": [
        "def create_dataset(N=100, slope=1.234, noise_stddev=0.1, random_state=0):\n",
        "    random_state = np.random.RandomState(int(random_state))\n",
        "\n",
        "    # input features\n",
        "    x_N = np.linspace(-2, 2, N)\n",
        "    \n",
        "    # output features\n",
        "    y_N = slope * x_N + random_state.randn(N) * noise_stddev\n",
        "    \n",
        "    return x_N, y_N"
      ]
    },
    {
      "cell_type": "code",
      "execution_count": null,
      "metadata": {
        "id": "57nGEcbWh2MB"
      },
      "outputs": [],
      "source": [
        "x_N, y_N = create_dataset(N=50, noise_stddev=0.3)"
      ]
    },
    {
      "cell_type": "code",
      "execution_count": null,
      "metadata": {
        "colab": {
          "base_uri": "https://localhost:8080/",
          "height": 349
        },
        "id": "S3NwfWUoh2MD",
        "outputId": "aa98deec-e3fa-4586-e057-ba121e911300"
      },
      "outputs": [
        {
          "output_type": "display_data",
          "data": {
            "text/plain": [
              "<Figure size 360x360 with 1 Axes>"
            ],
            "image/png": "[encoded data removed]"
          },
          "metadata": {}
        }
      ],
      "source": [
        "fig, ax = plt.subplots(nrows=1, ncols=1, figsize=(5,5))\n",
        "plt.plot(x_N, y_N, 'k.');\n",
        "plt.xlabel('x');\n",
        "plt.ylabel('y');"
      ]
    },
    {
      "cell_type": "markdown",
      "metadata": {
        "id": "irLvJreAh2MF"
      },
      "source": [
        "# Part 1: Gradient Descent for 1-dim. Linear Regression"
      ]
    },
    {
      "cell_type": "markdown",
      "metadata": {
        "id": "MYhIUvDah2MG"
      },
      "source": [
        "## Define model\n",
        "\n",
        "Consider the *simplest* linear regression model. A single weight parameter $w \\in \\mathbb{R}$ representing the slope of the prediction line. No bias/intercept.\n",
        "\n",
        "To make predictions, we just compute the weight multiplied by the input feature\n",
        "$$\n",
        "\\hat{y}(x) = w \\cdot x\n",
        "$$"
      ]
    },
    {
      "cell_type": "markdown",
      "metadata": {
        "id": "Y1ua8PEYh2MI"
      },
      "source": [
        "## Define loss function"
      ]
    },
    {
      "cell_type": "markdown",
      "metadata": {
        "id": "ukLM60n6h2MJ"
      },
      "source": [
        "We want to minimize the total *squared error* across all N observed data examples (input features $x_n$, output responses $y_n$)"
      ]
    },
    {
      "cell_type": "markdown",
      "metadata": {
        "id": "AwUisxBmh2MX"
      },
      "source": [
        "\\begin{align}\n",
        "    \\min_{w \\in \\mathbb{R}} ~~ &\\ell(w)\n",
        "    \\\\\n",
        "    \\text{calc_loss}(w) = \\ell(w) &= \\sum_{n=1}^N (y_n - w x_n)^2\n",
        "\\end{align}"
      ]
    },
    {
      "cell_type": "markdown",
      "metadata": {
        "id": "c50wk_9Ch2MY"
      },
      "source": [
        "### Exercise 1A: Complete the code below\n",
        "\n",
        "You should make it match the math expression above."
      ]
    },
    {
      "cell_type": "code",
      "execution_count": null,
      "metadata": {
        "id": "RlSCfYPCh2MZ"
      },
      "outputs": [],
      "source": [
        "def calc_loss(w):\n",
        "    ''' Compute loss for slope-only least-squares linear regression\n",
        "    \n",
        "    Args\n",
        "    ----\n",
        "    w : float\n",
        "        Value of slope parameter\n",
        "\n",
        "    Returns\n",
        "    -------\n",
        "    loss : float\n",
        "        Sum of squared error loss at provided w value\n",
        "    '''\n",
        "    y=w\n",
        "    yhat_N = x_N * w\n",
        "    sum_squared_error = np.sum(np.square(y-yhat_N)) # todo compute the sum of squared error between y and yhat\n",
        "    return sum_squared_error"
      ]
    },
    {
      "cell_type": "markdown",
      "metadata": {
        "id": "7C635JJHh2Mb"
      },
      "source": [
        "# Define the gradient function\n",
        "\n",
        "\\begin{align}\n",
        "\\text{calc_grad}(w) = \\ell'(w) &= \\frac{\\partial}{\\partial w} [ \\sum_{n=1}^N (y_n - w x_n)^2] \n",
        "\\\\\n",
        "&= \\sum_{n=1}^N 2 (y_n - w x_n) (-x_n)\n",
        "\\\\\n",
        "&= 2 \\sum_{n=1}^N (w x_n - y_n) (x_n)\n",
        "\\\\\n",
        "&= 2  w \\left( \\sum_{n=1}^N x_n^2 \\right) - 2 \\sum_{n=1}^N y_n x_n\n",
        "\\end{align}"
      ]
    },
    {
      "cell_type": "markdown",
      "metadata": {
        "id": "atFrZCeih2Mb"
      },
      "source": [
        "Below, we've implemented the gradient calculation in code for you"
      ]
    },
    {
      "cell_type": "code",
      "execution_count": null,
      "metadata": {
        "id": "zpeGP3WCh2Mc"
      },
      "outputs": [],
      "source": [
        "def calc_grad(w):\n",
        "    ''' Compute gradient for slope-only least-squares linear regression\n",
        "    \n",
        "    Args\n",
        "    ----\n",
        "    w : float\n",
        "        Value of slope parameter\n",
        "\n",
        "    Returns\n",
        "    -------\n",
        "    g : float\n",
        "        Value of derivative of loss function at provided w value\n",
        "    '''\n",
        "    g = 2.0 * w * np.sum(np.square(x_N)) - 2.0 * np.sum(x_N * y_N)\n",
        "    calc_loss(g)\n",
        "    return g"
      ]
    },
    {
      "cell_type": "markdown",
      "metadata": {
        "id": "Bmnn91j7h2Md"
      },
      "source": [
        "## Plot loss evaluated at each w from -3 to 8\n",
        "\n",
        "We should see a \"bowl\" shape with one *global* minima, because our optimization problem is \"convex\""
      ]
    },
    {
      "cell_type": "code",
      "execution_count": null,
      "metadata": {
        "id": "4Pp_zqiLh2Me"
      },
      "outputs": [],
      "source": [
        "w_grid = np.linspace(-3, 8, 300) # create array of 300 values between -3 and 8"
      ]
    },
    {
      "cell_type": "code",
      "execution_count": null,
      "metadata": {
        "colab": {
          "base_uri": "https://localhost:8080/",
          "height": 381
        },
        "id": "u6U8cWerh2Me",
        "outputId": "ac01bce2-dbea-441e-e04e-c6cac83631df"
      },
      "outputs": [
        {
          "output_type": "display_data",
          "data": {
            "text/plain": [
              "<Figure size 576x396 with 1 Axes>"
            ],
            "image/png": "[encoded data removed]"
          },
          "metadata": {}
        }
      ],
      "source": [
        "loss_grid = np.asarray([calc_loss(w) for w in w_grid])\n",
        "plt.plot(w_grid, loss_grid, 'b.-');\n",
        "plt.xlabel('w');\n",
        "plt.ylabel('loss(w)');"
      ]
    },
    {
      "cell_type": "markdown",
      "metadata": {
        "id": "h2-BOVwNh2Mf"
      },
      "source": [
        "### Discussion 1b: Visually, at what value of $w$ does the loss function have a minima? Is it near where you would expect (hint: look above for the \"true\" slope value used to generate the data)"
      ]
    },
    {
      "cell_type": "markdown",
      "metadata": {
        "id": "CEatBIoZh2Mg"
      },
      "source": [
        "### Exercise 1c: Write NumPy code to identify which entry in the w_grid array corresponds to the lowest entry in the loss_grid array\n",
        "\n",
        "Hint: use np.argmin"
      ]
    },
    {
      "cell_type": "code",
      "execution_count": null,
      "metadata": {
        "id": "3AdDxdf2h2Mg"
      },
      "outputs": [],
      "source": [
        "# TODO write code here"
      ]
    },
    {
      "cell_type": "markdown",
      "metadata": {
        "id": "allShknWh2Mh"
      },
      "source": [
        "## Sanity check: plot gradient evaluated at each w from -3 to 8"
      ]
    },
    {
      "cell_type": "code",
      "execution_count": null,
      "metadata": {
        "colab": {
          "base_uri": "https://localhost:8080/",
          "height": 376
        },
        "id": "G5pEs9kph2Mi",
        "outputId": "b3bcab16-ebe0-4a25-9c94-9126381fb745"
      },
      "outputs": [
        {
          "output_type": "display_data",
          "data": {
            "text/plain": [
              "<Figure size 576x396 with 1 Axes>"
            ],
            "image/png": "[encoded data removed]"
          },
          "metadata": {}
        }
      ],
      "source": [
        "grad_grid = np.asarray([calc_grad(w) for w in w_grid])\n",
        "plt.plot(w_grid, grad_grid, 'b.-');\n",
        "plt.xlabel('w');\n",
        "plt.ylabel('grad(w)');"
      ]
    },
    {
      "cell_type": "markdown",
      "metadata": {
        "id": "DZJWb7URh2Mj"
      },
      "source": [
        "### Discussion 1d: Visually, at what value of $w$ does the gradient function cross zero? Is it the same place as the location of the minimum in the loss above?"
      ]
    },
    {
      "cell_type": "markdown",
      "metadata": {
        "id": "qbfB2Mnth2Mj"
      },
      "source": [
        "TODO interpret the graph above and write your answer here, then discuss with your group"
      ]
    },
    {
      "cell_type": "markdown",
      "metadata": {
        "id": "o1zgmCdWh2Mj"
      },
      "source": [
        "### Exercise 1d: Numerically, at which value of w does grad_grid cross zero?"
      ]
    },
    {
      "cell_type": "markdown",
      "metadata": {
        "id": "tmSkBg__h2Mj"
      },
      "source": [
        "We might try to estimate numerically where the gradient crosses zero.\n",
        "\n",
        "We could do this in a few steps:\n",
        "\n",
        "1) Compute the distance from each gradient in `grad_grid` to 0.0 (we could use just absolute distance)\n",
        "\n",
        "2) Find the index of `grad_grid` with smallest distance (using `np.argmin`)\n",
        "\n",
        "3) Plug that index into `w_grid` to get the $w$ value corresponding to that zero-crossing"
      ]
    },
    {
      "cell_type": "code",
      "source": [
        "dist_from_zero_G = np.abs(grad_grid - 0.0)\n",
        "\n",
        "zero_cross_index =np.argmin(dist_from_zero_G) # TODO fix me for step 2 above\n",
        "\n",
        "print(\"Zero crossing occurs at w = %.4f\" % w_grid[zero_cross_index]) # TODO fix me for step 3 above"
      ],
      "metadata": {
        "colab": {
          "base_uri": "https://localhost:8080/"
        },
        "id": "FDwyLadnakHr",
        "outputId": "a4d272c2-54c1-44bf-80ab-2a23b849b6e5"
      },
      "execution_count": null,
      "outputs": [
        {
          "output_type": "stream",
          "name": "stdout",
          "text": [
            "Zero crossing occurs at w = 1.1204\n"
          ]
        }
      ]
    },
    {
      "cell_type": "markdown",
      "metadata": {
        "id": "hVKQwmrNh2Mk"
      },
      "source": [
        "## Part 2: Gradient Descent (GD) as an algorithm in Python\n",
        "\n",
        "\n",
        "### Define minimize_via_grad_descent algorithm\n",
        "\n",
        "Can you understand what each step of this algorithm does?"
      ]
    },
    {
      "cell_type": "code",
      "execution_count": null,
      "metadata": {
        "id": "Nq5VfYAuh2Ml"
      },
      "outputs": [],
      "source": [
        "def minimize_via_grad_descent(calc_loss, calc_grad, init_w=0.0, step_size=0.001, max_iters=100):\n",
        "    ''' Perform minimization of provided loss function via gradient descent\n",
        "    \n",
        "    Args\n",
        "    ----\n",
        "    calc_loss : function\n",
        "    calc_grad : function\n",
        "    init_w : float\n",
        "    step_size : float\n",
        "    max_iters : positive int\n",
        "    \n",
        "    Return\n",
        "    ----\n",
        "    wopt: float\n",
        "        array of optimized weights that approximately gives the least error\n",
        "    info_dict : dict\n",
        "        Contains information about the optimization procedure useful for debugging\n",
        "        Entries include:\n",
        "        * trace_loss_list : list of loss values\n",
        "        * trace_grad_list : list of gradient values\n",
        "    '''\n",
        "    w = 1.0 * init_w \n",
        "    grad = calc_grad(w)\n",
        "\n",
        "    # Create some lists to track progress over time (for debugging)\n",
        "    trace_loss_list = []\n",
        "    trace_w_list = []\n",
        "    trace_grad_list = []\n",
        "\n",
        "    for iter_id in range(max_iters):\n",
        "        if iter_id > 0:\n",
        "            w = w - step_size * grad\n",
        "        \n",
        "        loss = calc_loss(w)\n",
        "        grad = calc_grad(w)    \n",
        "\n",
        "        print(\"  iter %5d/%d | w  % 13.5f | loss % 13.4f | grad % 13.4f\" % (\n",
        "            iter_id, max_iters, w, loss, grad))\n",
        "    \n",
        "        trace_loss_list.append(loss)\n",
        "        trace_w_list.append(w)\n",
        "        trace_grad_list.append(grad)\n",
        "    \n",
        "    wopt = w\n",
        "    info_dict = dict(\n",
        "        trace_loss_list=trace_loss_list,\n",
        "        trace_w_list=trace_w_list, \n",
        "        trace_grad_list=trace_grad_list)\n",
        "    \n",
        "    return wopt, info_dict"
      ]
    },
    {
      "cell_type": "markdown",
      "metadata": {
        "id": "JHqDXEbwh2Mm"
      },
      "source": [
        "### Discussion 2a: Which line of the above function does the *parameter update* happen?\n",
        "\n",
        "Remember, in math, the parameter update of gradient descent is this:\n",
        "$$\n",
        "w \\gets w - \\alpha \\nabla_w \\ell(w)\n",
        "$$\n",
        "\n",
        "where $\\alpha > 0$ is the step size.\n",
        "\n",
        "In words, this math says *move* the parameter $w$ from its current value a *small step* in the \"downhill\" direction (indicated by gradient)."
      ]
    },
    {
      "cell_type": "markdown",
      "metadata": {
        "id": "_N11Lu2wh2Mn"
      },
      "source": [
        "TODO write down here which line above *you* think it is, then discuss with your group"
      ]
    },
    {
      "cell_type": "code",
      "execution_count": null,
      "metadata": {
        "id": "uZsqR5bch2Mo"
      },
      "outputs": [],
      "source": []
    },
    {
      "cell_type": "markdown",
      "metadata": {
        "id": "2pW-162Fh2Mo"
      },
      "source": [
        "### Try it! Run GD with step_size = 0.001\n",
        "\n",
        "Running the cell below will have the following effects:\n",
        "\n",
        "1) one line will be printed for every iteration, indicating the current w value and its associated loss\n",
        "\n",
        "2) the \"optimal\" value of w will be stored in the variable named `wopt` returned by this function\n",
        "\n",
        "3) a dictionary of information useful for debugging will be stored in the `info_dict` returned by this function"
      ]
    },
    {
      "cell_type": "code",
      "execution_count": null,
      "metadata": {
        "colab": {
          "base_uri": "https://localhost:8080/"
        },
        "id": "svojPMKxh2Mo",
        "outputId": "5c54ae5d-d93a-4b2e-f1cc-797b25b6f733"
      },
      "outputs": [
        {
          "output_type": "stream",
          "name": "stdout",
          "text": [
            "  iter     0/100 | w        0.00000 | loss        0.0000 | grad     -156.5566\n",
            "  iter     1/100 | w        0.15656 | loss        2.9262 | grad     -134.8304\n",
            "  iter     2/100 | w        0.29139 | loss       10.1368 | grad     -116.1192\n",
            "  iter     3/100 | w        0.40751 | loss       19.8257 | grad     -100.0047\n",
            "  iter     4/100 | w        0.50751 | loss       30.7504 | grad      -86.1265\n",
            "  iter     5/100 | w        0.59364 | loss       42.0729 | grad      -74.1743\n",
            "  iter     6/100 | w        0.66781 | loss       53.2436 | grad      -63.8807\n",
            "  iter     7/100 | w        0.73169 | loss       63.9171 | grad      -55.0156\n",
            "  iter     8/100 | w        0.78671 | loss       73.8902 | grad      -47.3808\n",
            "  iter     9/100 | w        0.83409 | loss       83.0585 | grad      -40.8055\n",
            "  iter    10/100 | w        0.87489 | loss       91.3841 | grad      -35.1427\n",
            "  iter    11/100 | w        0.91004 | loss       98.8730 | grad      -30.2657\n",
            "  iter    12/100 | w        0.94030 | loss      105.5590 | grad      -26.0656\n",
            "  iter    13/100 | w        0.96637 | loss      111.4924 | grad      -22.4483\n",
            "  iter    14/100 | w        0.98882 | loss      116.7324 | grad      -19.3331\n",
            "  iter    15/100 | w        1.00815 | loss      121.3416 | grad      -16.6501\n",
            "  iter    16/100 | w        1.02480 | loss      125.3828 | grad      -14.3395\n",
            "  iter    17/100 | w        1.03914 | loss      128.9161 | grad      -12.3495\n",
            "  iter    18/100 | w        1.05149 | loss      131.9985 | grad      -10.6357\n",
            "  iter    19/100 | w        1.06212 | loss      134.6823 | grad       -9.1597\n",
            "  iter    20/100 | w        1.07128 | loss      137.0153 | grad       -7.8886\n",
            "  iter    21/100 | w        1.07917 | loss      139.0406 | grad       -6.7938\n",
            "  iter    22/100 | w        1.08597 | loss      140.7968 | grad       -5.8510\n",
            "  iter    23/100 | w        1.09182 | loss      142.3180 | grad       -5.0390\n",
            "  iter    24/100 | w        1.09686 | loss      143.6347 | grad       -4.3397\n",
            "  iter    25/100 | w        1.10120 | loss      144.7736 | grad       -3.7375\n",
            "  iter    26/100 | w        1.10493 | loss      145.7580 | grad       -3.2188\n",
            "  iter    27/100 | w        1.10815 | loss      146.6084 | grad       -2.7721\n",
            "  iter    28/100 | w        1.11092 | loss      147.3429 | grad       -2.3874\n",
            "  iter    29/100 | w        1.11331 | loss      147.9768 | grad       -2.0561\n",
            "  iter    30/100 | w        1.11537 | loss      148.5239 | grad       -1.7708\n",
            "  iter    31/100 | w        1.11714 | loss      148.9959 | grad       -1.5250\n",
            "  iter    32/100 | w        1.11866 | loss      149.4030 | grad       -1.3134\n",
            "  iter    33/100 | w        1.11998 | loss      149.7540 | grad       -1.1311\n",
            "  iter    34/100 | w        1.12111 | loss      150.0566 | grad       -0.9742\n",
            "  iter    35/100 | w        1.12208 | loss      150.3175 | grad       -0.8390\n",
            "  iter    36/100 | w        1.12292 | loss      150.5424 | grad       -0.7225\n",
            "  iter    37/100 | w        1.12364 | loss      150.7362 | grad       -0.6223\n",
            "  iter    38/100 | w        1.12427 | loss      150.9032 | grad       -0.5359\n",
            "  iter    39/100 | w        1.12480 | loss      151.0471 | grad       -0.4615\n",
            "  iter    40/100 | w        1.12526 | loss      151.1711 | grad       -0.3975\n",
            "  iter    41/100 | w        1.12566 | loss      151.2779 | grad       -0.3423\n",
            "  iter    42/100 | w        1.12600 | loss      151.3699 | grad       -0.2948\n",
            "  iter    43/100 | w        1.12630 | loss      151.4492 | grad       -0.2539\n",
            "  iter    44/100 | w        1.12655 | loss      151.5175 | grad       -0.2187\n",
            "  iter    45/100 | w        1.12677 | loss      151.5763 | grad       -0.1883\n",
            "  iter    46/100 | w        1.12696 | loss      151.6270 | grad       -0.1622\n",
            "  iter    47/100 | w        1.12712 | loss      151.6706 | grad       -0.1397\n",
            "  iter    48/100 | w        1.12726 | loss      151.7082 | grad       -0.1203\n",
            "  iter    49/100 | w        1.12738 | loss      151.7406 | grad       -0.1036\n",
            "  iter    50/100 | w        1.12749 | loss      151.7685 | grad       -0.0892\n",
            "  iter    51/100 | w        1.12757 | loss      151.7925 | grad       -0.0768\n",
            "  iter    52/100 | w        1.12765 | loss      151.8132 | grad       -0.0662\n",
            "  iter    53/100 | w        1.12772 | loss      151.8310 | grad       -0.0570\n",
            "  iter    54/100 | w        1.12777 | loss      151.8464 | grad       -0.0491\n",
            "  iter    55/100 | w        1.12782 | loss      151.8596 | grad       -0.0423\n",
            "  iter    56/100 | w        1.12787 | loss      151.8710 | grad       -0.0364\n",
            "  iter    57/100 | w        1.12790 | loss      151.8808 | grad       -0.0314\n",
            "  iter    58/100 | w        1.12793 | loss      151.8892 | grad       -0.0270\n",
            "  iter    59/100 | w        1.12796 | loss      151.8965 | grad       -0.0233\n",
            "  iter    60/100 | w        1.12798 | loss      151.9028 | grad       -0.0200\n",
            "  iter    61/100 | w        1.12800 | loss      151.9082 | grad       -0.0172\n",
            "  iter    62/100 | w        1.12802 | loss      151.9128 | grad       -0.0149\n",
            "  iter    63/100 | w        1.12804 | loss      151.9168 | grad       -0.0128\n",
            "  iter    64/100 | w        1.12805 | loss      151.9202 | grad       -0.0110\n",
            "  iter    65/100 | w        1.12806 | loss      151.9232 | grad       -0.0095\n",
            "  iter    66/100 | w        1.12807 | loss      151.9258 | grad       -0.0082\n",
            "  iter    67/100 | w        1.12808 | loss      151.9280 | grad       -0.0070\n",
            "  iter    68/100 | w        1.12808 | loss      151.9299 | grad       -0.0061\n",
            "  iter    69/100 | w        1.12809 | loss      151.9315 | grad       -0.0052\n",
            "  iter    70/100 | w        1.12810 | loss      151.9329 | grad       -0.0045\n",
            "  iter    71/100 | w        1.12810 | loss      151.9341 | grad       -0.0039\n",
            "  iter    72/100 | w        1.12810 | loss      151.9352 | grad       -0.0033\n",
            "  iter    73/100 | w        1.12811 | loss      151.9361 | grad       -0.0029\n",
            "  iter    74/100 | w        1.12811 | loss      151.9368 | grad       -0.0025\n",
            "  iter    75/100 | w        1.12811 | loss      151.9375 | grad       -0.0021\n",
            "  iter    76/100 | w        1.12812 | loss      151.9381 | grad       -0.0018\n",
            "  iter    77/100 | w        1.12812 | loss      151.9386 | grad       -0.0016\n",
            "  iter    78/100 | w        1.12812 | loss      151.9390 | grad       -0.0014\n",
            "  iter    79/100 | w        1.12812 | loss      151.9394 | grad       -0.0012\n",
            "  iter    80/100 | w        1.12812 | loss      151.9397 | grad       -0.0010\n",
            "  iter    81/100 | w        1.12812 | loss      151.9399 | grad       -0.0009\n",
            "  iter    82/100 | w        1.12812 | loss      151.9402 | grad       -0.0007\n",
            "  iter    83/100 | w        1.12812 | loss      151.9404 | grad       -0.0006\n",
            "  iter    84/100 | w        1.12812 | loss      151.9406 | grad       -0.0006\n",
            "  iter    85/100 | w        1.12812 | loss      151.9407 | grad       -0.0005\n",
            "  iter    86/100 | w        1.12813 | loss      151.9408 | grad       -0.0004\n",
            "  iter    87/100 | w        1.12813 | loss      151.9409 | grad       -0.0004\n",
            "  iter    88/100 | w        1.12813 | loss      151.9410 | grad       -0.0003\n",
            "  iter    89/100 | w        1.12813 | loss      151.9411 | grad       -0.0003\n",
            "  iter    90/100 | w        1.12813 | loss      151.9412 | grad       -0.0002\n",
            "  iter    91/100 | w        1.12813 | loss      151.9413 | grad       -0.0002\n",
            "  iter    92/100 | w        1.12813 | loss      151.9413 | grad       -0.0002\n",
            "  iter    93/100 | w        1.12813 | loss      151.9414 | grad       -0.0001\n",
            "  iter    94/100 | w        1.12813 | loss      151.9414 | grad       -0.0001\n",
            "  iter    95/100 | w        1.12813 | loss      151.9414 | grad       -0.0001\n",
            "  iter    96/100 | w        1.12813 | loss      151.9415 | grad       -0.0001\n",
            "  iter    97/100 | w        1.12813 | loss      151.9415 | grad       -0.0001\n",
            "  iter    98/100 | w        1.12813 | loss      151.9415 | grad       -0.0001\n",
            "  iter    99/100 | w        1.12813 | loss      151.9415 | grad       -0.0001\n"
          ]
        }
      ],
      "source": [
        "wopt, info_dict = minimize_via_grad_descent(calc_loss, calc_grad, step_size=0.001);"
      ]
    },
    {
      "cell_type": "markdown",
      "metadata": {
        "id": "7CM4hmBWh2Mp"
      },
      "source": [
        "### Discussion 2b: Does it appear from the *loss* values in trace above that the GD procedure converged?"
      ]
    },
    {
      "cell_type": "markdown",
      "metadata": {
        "id": "K9QfM5zih2Mp"
      },
      "source": [
        "### Discussion 2c: Does it appear from the *parameter* values in trace above that the GD procedure converged?"
      ]
    },
    {
      "cell_type": "markdown",
      "metadata": {
        "id": "37YKunaIh2Mq"
      },
      "source": [
        "### Exercise 2d: What exactly is the gradient of the returned \"optimal\" value of w?\n",
        "\n",
        "Use your `calc_grad` function to check the result. What is the gradient of the returned `wopt`?\n",
        "\n",
        "Does this look totally converged? Can you find a $w$ value that would be even better?"
      ]
    },
    {
      "cell_type": "code",
      "execution_count": null,
      "metadata": {
        "id": "mbKZeWoXh2Mq",
        "colab": {
          "base_uri": "https://localhost:8080/"
        },
        "outputId": "2062c1db-59e2-48bb-a0a9-5c929e78f7f5"
      },
      "outputs": [
        {
          "output_type": "execute_result",
          "data": {
            "text/plain": [
              "-5.9046213692681704e-05"
            ]
          },
          "metadata": {},
          "execution_count": 15
        }
      ],
      "source": [
        "calc_grad(wopt)# TODO call calc_grad on the return value from above"
      ]
    },
    {
      "cell_type": "markdown",
      "metadata": {
        "id": "mxTgGlwLh2Mr"
      },
      "source": [
        "## Part 3: Diagnostic plots for gradient descent"
      ]
    },
    {
      "cell_type": "markdown",
      "metadata": {
        "id": "LP41G4elh2Mr"
      },
      "source": [
        "Let's look at some trace functions.\n",
        "\n",
        "Whenever you run gradient descent, an *excellent* debugging strategy is the ability to plot the loss, the gradient magnitude, and the parameter of interest at every step of the algorithm."
      ]
    },
    {
      "cell_type": "code",
      "execution_count": null,
      "metadata": {
        "colab": {
          "base_uri": "https://localhost:8080/",
          "height": 272
        },
        "id": "HHWiGKt8h2Mr",
        "outputId": "018dbe39-0d38-42e2-c5b2-579c0b12b018"
      },
      "outputs": [
        {
          "output_type": "display_data",
          "data": {
            "text/plain": [
              "<Figure size 1296x259.2 with 3 Axes>"
            ],
            "image/png": "[encoded data removed]"
          },
          "metadata": {}
        }
      ],
      "source": [
        "fig, axes = plt.subplots(nrows=1, ncols=3, sharex=True, sharey=False, figsize=(18,3.6))\n",
        "\n",
        "axes[0].plot(info_dict['trace_loss_list']);\n",
        "axes[0].set_title('loss');\n",
        "axes[1].plot(info_dict['trace_grad_list']);\n",
        "axes[1].set_title('grad');\n",
        "axes[2].plot(info_dict['trace_w_list']);\n",
        "axes[2].set_title('w');\n",
        "\n",
        "plt.xlim([0, 100]);"
      ]
    },
    {
      "cell_type": "markdown",
      "metadata": {
        "id": "W4opMwqwh2Ms"
      },
      "source": [
        "### Discussion 3a: What value do we expect the *loss* to converge to? Should it always be zero?"
      ]
    },
    {
      "cell_type": "markdown",
      "metadata": {
        "id": "XHWCJ4A2h2Mt"
      },
      "source": [
        "### Discussion 3b: What value do we expect the *gradient* to converge to? Should it always be zero?"
      ]
    },
    {
      "cell_type": "markdown",
      "metadata": {
        "id": "uhSgkSrIh2Mt"
      },
      "source": [
        "# Part 4: Larger step sizes\n",
        "\n",
        "## Try with larger step_size = 0.014"
      ]
    },
    {
      "cell_type": "code",
      "execution_count": null,
      "metadata": {
        "colab": {
          "base_uri": "https://localhost:8080/"
        },
        "id": "ln8beLQ2h2Mt",
        "outputId": "9d81d4e7-31ca-48fc-a921-408979dfa061"
      },
      "outputs": [
        {
          "output_type": "stream",
          "name": "stdout",
          "text": [
            "  iter     0/100 | w        0.00000 | loss        0.0000 | grad     -156.5566\n",
            "  iter     1/100 | w        2.19179 | loss      573.5331 | grad      147.6105\n",
            "  iter     2/100 | w        0.12525 | loss        1.8728 | grad     -139.1756\n",
            "  iter     3/100 | w        2.07370 | loss      513.3969 | grad      131.2227\n",
            "  iter     4/100 | w        0.23659 | loss        6.6825 | grad     -123.7243\n",
            "  iter     5/100 | w        1.96873 | loss      462.7327 | grad      116.6543\n",
            "  iter     6/100 | w        0.33557 | loss       13.4435 | grad     -109.9884\n",
            "  iter     7/100 | w        1.87540 | loss      419.9026 | grad      103.7033\n",
            "  iter     8/100 | w        0.42356 | loss       21.4181 | grad      -97.7774\n",
            "  iter     9/100 | w        1.79244 | loss      383.5737 | grad       92.1901\n",
            "  iter    10/100 | w        0.50178 | loss       30.0596 | grad      -86.9221\n",
            "  iter    11/100 | w        1.71869 | loss      352.6579 | grad       81.9551\n",
            "  iter    12/100 | w        0.57132 | loss       38.9683 | grad      -77.2720\n",
            "  iter    13/100 | w        1.65312 | loss      326.2648 | grad       72.8564\n",
            "  iter    14/100 | w        0.63313 | loss       47.8575 | grad      -68.6932\n",
            "  iter    15/100 | w        1.59484 | loss      303.6638 | grad       64.7679\n",
            "  iter    16/100 | w        0.68809 | loss       56.5259 | grad      -61.0669\n",
            "  iter    17/100 | w        1.54302 | loss      284.2530 | grad       57.5773\n",
            "  iter    18/100 | w        0.73694 | loss       64.8374 | grad      -54.2872\n",
            "  iter    19/100 | w        1.49696 | loss      267.5354 | grad       51.1851\n",
            "  iter    20/100 | w        0.78037 | loss       72.7046 | grad      -48.2602\n",
            "  iter    21/100 | w        1.45601 | loss      253.0992 | grad       45.5025\n",
            "  iter    22/100 | w        0.81898 | loss       80.0766 | grad      -42.9023\n",
            "  iter    23/100 | w        1.41961 | loss      240.6019 | grad       40.4508\n",
            "  iter    24/100 | w        0.85330 | loss       86.9289 | grad      -38.1393\n",
            "  iter    25/100 | w        1.38725 | loss      229.7577 | grad       35.9599\n",
            "  iter    26/100 | w        0.88381 | loss       93.2567 | grad      -33.9051\n",
            "  iter    27/100 | w        1.35848 | loss      220.3274 | grad       31.9676\n",
            "  iter    28/100 | w        0.91094 | loss       99.0686 | grad      -30.1409\n",
            "  iter    29/100 | w        1.33291 | loss      212.1099 | grad       28.4186\n",
            "  iter    30/100 | w        0.93505 | loss      104.3827 | grad      -26.7947\n",
            "  iter    31/100 | w        1.31017 | loss      204.9359 | grad       25.2635\n",
            "  iter    32/100 | w        0.95648 | loss      109.2235 | grad      -23.8199\n",
            "  iter    33/100 | w        1.28996 | loss      198.6619 | grad       22.4588\n",
            "  iter    34/100 | w        0.97554 | loss      113.6189 | grad      -21.1754\n",
            "  iter    35/100 | w        1.27200 | loss      193.1664 | grad       19.9654\n",
            "  iter    36/100 | w        0.99248 | loss      117.5992 | grad      -18.8245\n",
            "  iter    37/100 | w        1.25602 | loss      188.3457 | grad       17.7488\n",
            "  iter    38/100 | w        1.00754 | loss      121.1951 | grad      -16.7346\n",
            "  iter    39/100 | w        1.24183 | loss      184.1114 | grad       15.7783\n",
            "  iter    40/100 | w        1.02093 | loss      124.4372 | grad      -14.8767\n",
            "  iter    41/100 | w        1.22920 | loss      180.3876 | grad       14.0266\n",
            "  iter    42/100 | w        1.03283 | loss      127.3554 | grad      -13.2251\n",
            "  iter    43/100 | w        1.21798 | loss      177.1091 | grad       12.4694\n",
            "  iter    44/100 | w        1.04341 | loss      129.9779 | grad      -11.7568\n",
            "  iter    45/100 | w        1.20801 | loss      174.2199 | grad       11.0850\n",
            "  iter    46/100 | w        1.05282 | loss      132.3318 | grad      -10.4516\n",
            "  iter    47/100 | w        1.19914 | loss      171.6714 | grad        9.8544\n",
            "  iter    48/100 | w        1.06118 | loss      134.4421 | grad       -9.2913\n",
            "  iter    49/100 | w        1.19125 | loss      169.4216 | grad        8.7603\n",
            "  iter    50/100 | w        1.06861 | loss      136.3320 | grad       -8.2597\n",
            "  iter    51/100 | w        1.18425 | loss      167.4340 | grad        7.7878\n",
            "  iter    52/100 | w        1.07522 | loss      138.0233 | grad       -7.3427\n",
            "  iter    53/100 | w        1.17802 | loss      165.6769 | grad        6.9232\n",
            "  iter    54/100 | w        1.08109 | loss      139.5355 | grad       -6.5275\n",
            "  iter    55/100 | w        1.17248 | loss      164.1227 | grad        6.1545\n",
            "  iter    56/100 | w        1.08631 | loss      140.8868 | grad       -5.8029\n",
            "  iter    57/100 | w        1.16755 | loss      162.7472 | grad        5.4713\n",
            "  iter    58/100 | w        1.09096 | loss      142.0935 | grad       -5.1586\n",
            "  iter    59/100 | w        1.16318 | loss      161.5292 | grad        4.8638\n",
            "  iter    60/100 | w        1.09508 | loss      143.1706 | grad       -4.5859\n",
            "  iter    61/100 | w        1.15929 | loss      160.4503 | grad        4.3239\n",
            "  iter    62/100 | w        1.09875 | loss      144.1315 | grad       -4.0768\n",
            "  iter    63/100 | w        1.15583 | loss      159.4942 | grad        3.8438\n",
            "  iter    64/100 | w        1.10201 | loss      144.9884 | grad       -3.6242\n",
            "  iter    65/100 | w        1.15275 | loss      158.6467 | grad        3.4171\n",
            "  iter    66/100 | w        1.10491 | loss      145.7523 | grad       -3.2218\n",
            "  iter    67/100 | w        1.15002 | loss      157.8952 | grad        3.0377\n",
            "  iter    68/100 | w        1.10749 | loss      146.4331 | grad       -2.8641\n",
            "  iter    69/100 | w        1.14759 | loss      157.2286 | grad        2.7005\n",
            "  iter    70/100 | w        1.10978 | loss      147.0396 | grad       -2.5462\n",
            "  iter    71/100 | w        1.14543 | loss      156.6371 | grad        2.4007\n",
            "  iter    72/100 | w        1.11182 | loss      147.5799 | grad       -2.2635\n",
            "  iter    73/100 | w        1.14351 | loss      156.1123 | grad        2.1341\n",
            "  iter    74/100 | w        1.11363 | loss      148.0610 | grad       -2.0122\n",
            "  iter    75/100 | w        1.14180 | loss      155.6465 | grad        1.8972\n",
            "  iter    76/100 | w        1.11524 | loss      148.4893 | grad       -1.7888\n",
            "  iter    77/100 | w        1.14028 | loss      155.2330 | grad        1.6866\n",
            "  iter    78/100 | w        1.11667 | loss      148.8707 | grad       -1.5902\n",
            "  iter    79/100 | w        1.13893 | loss      154.8658 | grad        1.4993\n",
            "  iter    80/100 | w        1.11794 | loss      149.2101 | grad       -1.4137\n",
            "  iter    81/100 | w        1.13773 | loss      154.5398 | grad        1.3329\n",
            "  iter    82/100 | w        1.11907 | loss      149.5121 | grad       -1.2567\n",
            "  iter    83/100 | w        1.13667 | loss      154.2503 | grad        1.1849\n",
            "  iter    84/100 | w        1.12008 | loss      149.7809 | grad       -1.1172\n",
            "  iter    85/100 | w        1.13572 | loss      153.9931 | grad        1.0533\n",
            "  iter    86/100 | w        1.12097 | loss      150.0200 | grad       -0.9932\n",
            "  iter    87/100 | w        1.13488 | loss      153.7647 | grad        0.9364\n",
            "  iter    88/100 | w        1.12177 | loss      150.2327 | grad       -0.8829\n",
            "  iter    89/100 | w        1.13413 | loss      153.5617 | grad        0.8324\n",
            "  iter    90/100 | w        1.12247 | loss      150.4220 | grad       -0.7849\n",
            "  iter    91/100 | w        1.13346 | loss      153.3815 | grad        0.7400\n",
            "  iter    92/100 | w        1.12310 | loss      150.5903 | grad       -0.6977\n",
            "  iter    93/100 | w        1.13287 | loss      153.2213 | grad        0.6579\n",
            "  iter    94/100 | w        1.12366 | loss      150.7400 | grad       -0.6203\n",
            "  iter    95/100 | w        1.13234 | loss      153.0789 | grad        0.5848\n",
            "  iter    96/100 | w        1.12415 | loss      150.8732 | grad       -0.5514\n",
            "  iter    97/100 | w        1.13187 | loss      152.9525 | grad        0.5199\n",
            "  iter    98/100 | w        1.12460 | loss      150.9916 | grad       -0.4902\n",
            "  iter    99/100 | w        1.13146 | loss      152.8401 | grad        0.4622\n"
          ]
        }
      ],
      "source": [
        "wopt, info_dict = minimize_via_grad_descent(calc_loss, calc_grad, step_size=0.014);"
      ]
    },
    {
      "cell_type": "code",
      "execution_count": null,
      "metadata": {
        "colab": {
          "base_uri": "https://localhost:8080/",
          "height": 239
        },
        "id": "mZveRgiqh2Mu",
        "outputId": "527002b7-7ae4-4a23-da91-c8aa3f501a5a"
      },
      "outputs": [
        {
          "output_type": "display_data",
          "data": {
            "text/plain": [
              "<Figure size 864x216 with 3 Axes>"
            ],
            "image/png": "[encoded data removed]"
          },
          "metadata": {}
        }
      ],
      "source": [
        "fig, axes = plt.subplots(nrows=1, ncols=3, sharex=True, sharey=False, figsize=(12,3))\n",
        "\n",
        "axes[0].plot(info_dict['trace_loss_list'], '.-');\n",
        "axes[0].set_title('loss');\n",
        "axes[1].plot(info_dict['trace_grad_list'], '.-');\n",
        "axes[1].set_title('grad');\n",
        "axes[2].plot(info_dict['trace_w_list'], '.-');\n",
        "axes[2].set_title('w');"
      ]
    },
    {
      "cell_type": "markdown",
      "metadata": {
        "id": "g_I8y-WMh2Mv"
      },
      "source": [
        "### Discussion 4a: What happens here? How is this step size different than in Part 3 above?"
      ]
    },
    {
      "cell_type": "markdown",
      "metadata": {
        "id": "U_7gI0dOh2Mv"
      },
      "source": [
        "TODO discuss with your group"
      ]
    },
    {
      "cell_type": "markdown",
      "metadata": {
        "id": "suRIHNdvh2Mw"
      },
      "source": [
        "## Try with even larger step size 0.1"
      ]
    },
    {
      "cell_type": "code",
      "execution_count": null,
      "metadata": {
        "colab": {
          "base_uri": "https://localhost:8080/"
        },
        "id": "Rbmlsd0Oh2Mx",
        "outputId": "9b76c89e-5d85-46b0-82eb-4fc0edf23afd"
      },
      "outputs": [
        {
          "output_type": "stream",
          "name": "stdout",
          "text": [
            "  iter     0/25 | w        0.00000 | loss        0.0000 | grad     -156.5566\n",
            "  iter     1/25 | w       15.65566 | loss    29261.8951 | grad     2016.0654\n",
            "  iter     2/25 | w     -185.95088 | loss  4128157.5023 | grad   -25961.9847\n",
            "  iter     3/25 | w     2410.24759 | loss  693558505.1554 | grad   334326.7829\n",
            "  iter     4/25 | w   -31022.43070 | loss  114897725670.3586 | grad -4305310.2046\n",
            "  iter     5/25 | w   399508.58976 | loss  19055134954320.3750 | grad  55441851.8184\n",
            "  iter     6/25 | w  -5144676.59208 | loss  3159918955853365.5000 | grad -713955275.4570\n",
            "  iter     7/25 | w   66250850.95363 | loss  524013780095214592.0000 | grad  9193995485.9874\n",
            "  iter     8/25 | w  -853148697.64512 | loss  86897893810557779968.0000 | grad -118396145952.2056\n",
            "  iter     9/25 | w   10986465897.57544 | loss  14410392501504905838592.0000 | grad  1524652410119.2183\n",
            "  iter    10/25 | w  -141478775114.34641 | loss  2389694413795029980020736.0000 | grad -19633789199698.5000\n",
            "  iter    11/25 | w   1821900144855.50366 | loss  396286179719864411171586048.0000 | grad  252835122143056.1250\n",
            "  iter    12/25 | w  -23461612069450.10938 | loss  65716660392848922690858254336.0000 | grad -3255897185148334.0000\n",
            "  iter    13/25 | w   302128106445383.31250 | loss  10897880557550945000660960018432.0000 | grad  41927982118950984.0000\n",
            "  iter    14/25 | w  -3890670105449715.00000 | loss  1807209921147439956060758341582848.0000 | grad -539929728919552256.0000\n",
            "  iter    15/25 | w   50102302786505520.00000 | loss  299692007252805541918956057584992256.0000 | grad  6952972631596682240.0000\n",
            "  iter    16/25 | w  -645194960373162752.00000 | loss  49698321241059668080741270269703749632.0000 | grad -89537259806887870464.0000\n",
            "  iter    17/25 | w   8308531020315624448.00000 | loss  8241538227264282491200606649793472626688.0000 | grad  1153020631390739496960.0000\n",
            "  iter    18/25 | w  -106993532118758326272.00000 | loss  1366705165391825537792724116219176731803648.0000 | grad -14848082008317477519360.0000\n",
            "  iter    19/25 | w   1377814668712989425664.00000 | loss  226642522014816511950782965380596076275302400.0000 | grad  191206933617312775798784.0000\n",
            "  iter    20/25 | w  -17742878693018289831936.00000 | loss  37584428658034700765047343983837231298528673792.0000 | grad -2462277043112741494063104.0000\n",
            "  iter    21/25 | w   228484825618255890612224.00000 | loss  6232675426452206723889406757346684194022787907584.0000 | grad  31708098249064074287513600.0000\n",
            "  iter    22/25 | w  -2942324999288151773020160.00000 | loss  1033572794865321039468129329108348123048436698185728.0000 | grad -408322652962437261462339584.0000\n",
            "  iter    23/25 | w   37889940296955572118355968.00000 | loss  171398741181328950024325135821637568221632006478364672.0000 | grad  5258195796312200821216378880.0000\n",
            "  iter    24/25 | w  -487929639334264484233478144.00000 | loss  28423279544980876764451408107389341419134104293068505088.0000 | grad -67712684642306077575404847104.0000\n"
          ]
        }
      ],
      "source": [
        "wopt, info_dict = minimize_via_grad_descent(calc_loss, calc_grad, step_size=0.1, max_iters=25);"
      ]
    },
    {
      "cell_type": "markdown",
      "metadata": {
        "id": "TG_hQ6VBh2Mx"
      },
      "source": [
        "### Discussion 3b: What happens here with this even larger step size? Is it converging?"
      ]
    },
    {
      "cell_type": "markdown",
      "metadata": {
        "id": "dijUrGKbh2Mx"
      },
      "source": [
        "### Exercise 3c: What is the largest step size you can get to converge reasonably?"
      ]
    },
    {
      "cell_type": "code",
      "execution_count": null,
      "metadata": {
        "colab": {
          "base_uri": "https://localhost:8080/"
        },
        "id": "KWVBAajIh2My",
        "outputId": "1e8023aa-a45e-4ef6-969e-3d81d44fe51d"
      },
      "outputs": [
        {
          "output_type": "stream",
          "name": "stdout",
          "text": [
            "  iter     0/100 | w        0.00000 | loss        0.0000 | grad     -156.5566\n",
            "  iter     1/100 | w        0.00000 | loss        0.0000 | grad     -156.5566\n",
            "  iter     2/100 | w        0.00000 | loss        0.0000 | grad     -156.5566\n",
            "  iter     3/100 | w        0.00000 | loss        0.0000 | grad     -156.5566\n",
            "  iter     4/100 | w        0.00000 | loss        0.0000 | grad     -156.5566\n",
            "  iter     5/100 | w        0.00000 | loss        0.0000 | grad     -156.5566\n",
            "  iter     6/100 | w        0.00000 | loss        0.0000 | grad     -156.5566\n",
            "  iter     7/100 | w        0.00000 | loss        0.0000 | grad     -156.5566\n",
            "  iter     8/100 | w        0.00000 | loss        0.0000 | grad     -156.5566\n",
            "  iter     9/100 | w        0.00000 | loss        0.0000 | grad     -156.5566\n",
            "  iter    10/100 | w        0.00000 | loss        0.0000 | grad     -156.5566\n",
            "  iter    11/100 | w        0.00000 | loss        0.0000 | grad     -156.5566\n",
            "  iter    12/100 | w        0.00000 | loss        0.0000 | grad     -156.5566\n",
            "  iter    13/100 | w        0.00000 | loss        0.0000 | grad     -156.5566\n",
            "  iter    14/100 | w        0.00000 | loss        0.0000 | grad     -156.5566\n",
            "  iter    15/100 | w        0.00000 | loss        0.0000 | grad     -156.5566\n",
            "  iter    16/100 | w        0.00000 | loss        0.0000 | grad     -156.5566\n",
            "  iter    17/100 | w        0.00000 | loss        0.0000 | grad     -156.5566\n",
            "  iter    18/100 | w        0.00000 | loss        0.0000 | grad     -156.5566\n",
            "  iter    19/100 | w        0.00000 | loss        0.0000 | grad     -156.5566\n",
            "  iter    20/100 | w        0.00000 | loss        0.0000 | grad     -156.5566\n",
            "  iter    21/100 | w        0.00000 | loss        0.0000 | grad     -156.5566\n",
            "  iter    22/100 | w        0.00000 | loss        0.0000 | grad     -156.5566\n",
            "  iter    23/100 | w        0.00000 | loss        0.0000 | grad     -156.5566\n",
            "  iter    24/100 | w        0.00000 | loss        0.0000 | grad     -156.5566\n",
            "  iter    25/100 | w        0.00000 | loss        0.0000 | grad     -156.5566\n",
            "  iter    26/100 | w        0.00000 | loss        0.0000 | grad     -156.5566\n",
            "  iter    27/100 | w        0.00000 | loss        0.0000 | grad     -156.5566\n",
            "  iter    28/100 | w        0.00000 | loss        0.0000 | grad     -156.5566\n",
            "  iter    29/100 | w        0.00000 | loss        0.0000 | grad     -156.5566\n",
            "  iter    30/100 | w        0.00000 | loss        0.0000 | grad     -156.5566\n",
            "  iter    31/100 | w        0.00000 | loss        0.0000 | grad     -156.5566\n",
            "  iter    32/100 | w        0.00000 | loss        0.0000 | grad     -156.5566\n",
            "  iter    33/100 | w        0.00000 | loss        0.0000 | grad     -156.5566\n",
            "  iter    34/100 | w        0.00000 | loss        0.0000 | grad     -156.5566\n",
            "  iter    35/100 | w        0.00000 | loss        0.0000 | grad     -156.5566\n",
            "  iter    36/100 | w        0.00000 | loss        0.0000 | grad     -156.5566\n",
            "  iter    37/100 | w        0.00000 | loss        0.0000 | grad     -156.5566\n",
            "  iter    38/100 | w        0.00000 | loss        0.0000 | grad     -156.5566\n",
            "  iter    39/100 | w        0.00000 | loss        0.0000 | grad     -156.5566\n",
            "  iter    40/100 | w        0.00000 | loss        0.0000 | grad     -156.5566\n",
            "  iter    41/100 | w        0.00000 | loss        0.0000 | grad     -156.5566\n",
            "  iter    42/100 | w        0.00000 | loss        0.0000 | grad     -156.5566\n",
            "  iter    43/100 | w        0.00000 | loss        0.0000 | grad     -156.5566\n",
            "  iter    44/100 | w        0.00000 | loss        0.0000 | grad     -156.5566\n",
            "  iter    45/100 | w        0.00000 | loss        0.0000 | grad     -156.5566\n",
            "  iter    46/100 | w        0.00000 | loss        0.0000 | grad     -156.5566\n",
            "  iter    47/100 | w        0.00000 | loss        0.0000 | grad     -156.5566\n",
            "  iter    48/100 | w        0.00000 | loss        0.0000 | grad     -156.5566\n",
            "  iter    49/100 | w        0.00000 | loss        0.0000 | grad     -156.5566\n",
            "  iter    50/100 | w        0.00000 | loss        0.0000 | grad     -156.5566\n",
            "  iter    51/100 | w        0.00000 | loss        0.0000 | grad     -156.5566\n",
            "  iter    52/100 | w        0.00000 | loss        0.0000 | grad     -156.5566\n",
            "  iter    53/100 | w        0.00000 | loss        0.0000 | grad     -156.5566\n",
            "  iter    54/100 | w        0.00000 | loss        0.0000 | grad     -156.5566\n",
            "  iter    55/100 | w        0.00000 | loss        0.0000 | grad     -156.5566\n",
            "  iter    56/100 | w        0.00000 | loss        0.0000 | grad     -156.5566\n",
            "  iter    57/100 | w        0.00000 | loss        0.0000 | grad     -156.5566\n",
            "  iter    58/100 | w        0.00000 | loss        0.0000 | grad     -156.5566\n",
            "  iter    59/100 | w        0.00000 | loss        0.0000 | grad     -156.5566\n",
            "  iter    60/100 | w        0.00000 | loss        0.0000 | grad     -156.5566\n",
            "  iter    61/100 | w        0.00000 | loss        0.0000 | grad     -156.5566\n",
            "  iter    62/100 | w        0.00000 | loss        0.0000 | grad     -156.5566\n",
            "  iter    63/100 | w        0.00000 | loss        0.0000 | grad     -156.5566\n",
            "  iter    64/100 | w        0.00000 | loss        0.0000 | grad     -156.5566\n",
            "  iter    65/100 | w        0.00000 | loss        0.0000 | grad     -156.5566\n",
            "  iter    66/100 | w        0.00000 | loss        0.0000 | grad     -156.5566\n",
            "  iter    67/100 | w        0.00000 | loss        0.0000 | grad     -156.5566\n",
            "  iter    68/100 | w        0.00000 | loss        0.0000 | grad     -156.5566\n",
            "  iter    69/100 | w        0.00000 | loss        0.0000 | grad     -156.5566\n",
            "  iter    70/100 | w        0.00000 | loss        0.0000 | grad     -156.5566\n",
            "  iter    71/100 | w        0.00000 | loss        0.0000 | grad     -156.5566\n",
            "  iter    72/100 | w        0.00000 | loss        0.0000 | grad     -156.5566\n",
            "  iter    73/100 | w        0.00000 | loss        0.0000 | grad     -156.5566\n",
            "  iter    74/100 | w        0.00000 | loss        0.0000 | grad     -156.5566\n",
            "  iter    75/100 | w        0.00000 | loss        0.0000 | grad     -156.5566\n",
            "  iter    76/100 | w        0.00000 | loss        0.0000 | grad     -156.5566\n",
            "  iter    77/100 | w        0.00000 | loss        0.0000 | grad     -156.5566\n",
            "  iter    78/100 | w        0.00000 | loss        0.0000 | grad     -156.5566\n",
            "  iter    79/100 | w        0.00000 | loss        0.0000 | grad     -156.5566\n",
            "  iter    80/100 | w        0.00000 | loss        0.0000 | grad     -156.5566\n",
            "  iter    81/100 | w        0.00000 | loss        0.0000 | grad     -156.5566\n",
            "  iter    82/100 | w        0.00000 | loss        0.0000 | grad     -156.5566\n",
            "  iter    83/100 | w        0.00000 | loss        0.0000 | grad     -156.5566\n",
            "  iter    84/100 | w        0.00000 | loss        0.0000 | grad     -156.5566\n",
            "  iter    85/100 | w        0.00000 | loss        0.0000 | grad     -156.5566\n",
            "  iter    86/100 | w        0.00000 | loss        0.0000 | grad     -156.5566\n",
            "  iter    87/100 | w        0.00000 | loss        0.0000 | grad     -156.5566\n",
            "  iter    88/100 | w        0.00000 | loss        0.0000 | grad     -156.5566\n",
            "  iter    89/100 | w        0.00000 | loss        0.0000 | grad     -156.5566\n",
            "  iter    90/100 | w        0.00000 | loss        0.0000 | grad     -156.5566\n",
            "  iter    91/100 | w        0.00000 | loss        0.0000 | grad     -156.5566\n",
            "  iter    92/100 | w        0.00000 | loss        0.0000 | grad     -156.5566\n",
            "  iter    93/100 | w        0.00000 | loss        0.0000 | grad     -156.5566\n",
            "  iter    94/100 | w        0.00000 | loss        0.0000 | grad     -156.5566\n",
            "  iter    95/100 | w        0.00000 | loss        0.0000 | grad     -156.5566\n",
            "  iter    96/100 | w        0.00000 | loss        0.0000 | grad     -156.5566\n",
            "  iter    97/100 | w        0.00000 | loss        0.0000 | grad     -156.5566\n",
            "  iter    98/100 | w        0.00000 | loss        0.0000 | grad     -156.5566\n",
            "  iter    99/100 | w        0.00000 | loss        0.0000 | grad     -156.5566\n"
          ]
        }
      ],
      "source": [
        "# TODO try some other step sizes here\n",
        "wopt, info_dict = minimize_via_grad_descent(calc_loss, calc_grad, step_size=0) # TODO fix step_size"
      ]
    },
    {
      "cell_type": "markdown",
      "metadata": {
        "id": "jiHtjjSmh2Mz"
      },
      "source": [
        "# Part 5: Sensitivity to initial conditions\n",
        "\n"
      ]
    },
    {
      "cell_type": "markdown",
      "metadata": {
        "id": "G-DL_NcIh2Mz"
      },
      "source": [
        "### Exercise 5a: Try to call the defined procedure with a different initial condition for $w$. What happens?\n",
        "\n",
        "You could try $w = 5.0$ or something else."
      ]
    },
    {
      "cell_type": "code",
      "execution_count": null,
      "metadata": {
        "colab": {
          "base_uri": "https://localhost:8080/"
        },
        "id": "AlPAyfe7h2Mz",
        "outputId": "9b3acf90-4b0e-47d4-8bd1-07c7436fbbdd"
      },
      "outputs": [
        {
          "output_type": "stream",
          "name": "stdout",
          "text": [
            "  iter     0/10 | w        0.00000 | loss        0.0000 | grad     -156.5566\n",
            "  iter     1/10 | w        0.15656 | loss        2.9262 | grad     -134.8304\n",
            "  iter     2/10 | w        0.29139 | loss       10.1368 | grad     -116.1192\n",
            "  iter     3/10 | w        0.40751 | loss       19.8257 | grad     -100.0047\n",
            "  iter     4/10 | w        0.50751 | loss       30.7504 | grad      -86.1265\n",
            "  iter     5/10 | w        0.59364 | loss       42.0729 | grad      -74.1743\n",
            "  iter     6/10 | w        0.66781 | loss       53.2436 | grad      -63.8807\n",
            "  iter     7/10 | w        0.73169 | loss       63.9171 | grad      -55.0156\n",
            "  iter     8/10 | w        0.78671 | loss       73.8902 | grad      -47.3808\n",
            "  iter     9/10 | w        0.83409 | loss       83.0585 | grad      -40.8055\n"
          ]
        }
      ],
      "source": [
        "# TODO try some other initial condition for init_w\n",
        "wopt2, info_dict2 = minimize_via_grad_descent(calc_loss, calc_grad, init_w=0, step_size=0.001, max_iters=10) # TODO fix step_size"
      ]
    },
    {
      "cell_type": "markdown",
      "metadata": {
        "id": "U2WYA0y-h2Mz"
      },
      "source": [
        "### Exercise 5b: Try again with another initial value. "
      ]
    },
    {
      "cell_type": "code",
      "execution_count": null,
      "metadata": {
        "colab": {
          "base_uri": "https://localhost:8080/"
        },
        "id": "WR4BoD0_h2Mz",
        "outputId": "8969e618-1235-4b79-a153-f9fa6cdcfa8d"
      },
      "outputs": [
        {
          "output_type": "stream",
          "name": "stdout",
          "text": [
            "  iter     0/10 | w        0.00000 | loss        0.0000 | grad     -156.5566\n",
            "  iter     1/10 | w        0.15656 | loss        2.9262 | grad     -134.8304\n",
            "  iter     2/10 | w        0.29139 | loss       10.1368 | grad     -116.1192\n",
            "  iter     3/10 | w        0.40751 | loss       19.8257 | grad     -100.0047\n",
            "  iter     4/10 | w        0.50751 | loss       30.7504 | grad      -86.1265\n",
            "  iter     5/10 | w        0.59364 | loss       42.0729 | grad      -74.1743\n",
            "  iter     6/10 | w        0.66781 | loss       53.2436 | grad      -63.8807\n",
            "  iter     7/10 | w        0.73169 | loss       63.9171 | grad      -55.0156\n",
            "  iter     8/10 | w        0.78671 | loss       73.8902 | grad      -47.3808\n",
            "  iter     9/10 | w        0.83409 | loss       83.0585 | grad      -40.8055\n"
          ]
        }
      ],
      "source": [
        "# TODO try some other initial condition for init_w\n",
        "wopt3, info_dict3 = minimize_via_grad_descent(calc_loss, calc_grad, init_w=0, step_size=0.001, max_iters=10) # TODO fix"
      ]
    },
    {
      "cell_type": "markdown",
      "metadata": {
        "id": "BTEByGOih2M0"
      },
      "source": [
        "### Exercise 5c: Make a trace plot\n",
        "\n",
        "Make a trace plot showing convergence from multiple different starting values for $w$. What do you notice?"
      ]
    },
    {
      "cell_type": "code",
      "execution_count": null,
      "metadata": {
        "id": "IMRsnWZRh2M1"
      },
      "outputs": [],
      "source": [
        "# TODO"
      ]
    },
    {
      "cell_type": "markdown",
      "metadata": {
        "id": "gMgQimqhh2M1"
      },
      "source": [
        "# Part 6: Using scipy's built-in gradient optimization tools\n"
      ]
    },
    {
      "cell_type": "code",
      "execution_count": null,
      "metadata": {
        "id": "fpOc77I7h2M2"
      },
      "outputs": [],
      "source": [
        "import scipy.optimize"
      ]
    },
    {
      "cell_type": "markdown",
      "metadata": {
        "id": "Z-6IcA1gh2M2"
      },
      "source": [
        "Take a look at SciPy's built in minimization toolbox\n",
        "\n",
        "<https://docs.scipy.org/doc/scipy/reference/generated/scipy.optimize.minimize.html#scipy.optimize.minimize>\n",
        "\n",
        "We'll use \"L-BFGS\", a second-order method that uses the function and its gradient.\n",
        "\n",
        "This is a \"quasi-newton\" method, which you can get an intuition for here:\n",
        "\n",
        "https://en.wikipedia.org/wiki/Newton%27s_method_in_optimization"
      ]
    },
    {
      "cell_type": "code",
      "execution_count": null,
      "metadata": {
        "colab": {
          "base_uri": "https://localhost:8080/"
        },
        "id": "W0ZA4Fi0h2M2",
        "outputId": "b9ab71ac-cdde-4d54-d475-a473b5f77f9f"
      },
      "outputs": [
        {
          "output_type": "stream",
          "name": "stdout",
          "text": [
            "      fun: 7.959955651212751e-25\n",
            " hess_inv: <1x1 LbfgsInvHessProduct with dtype=float64>\n",
            "      jac: array([-156.55658222])\n",
            "  message: 'ABNORMAL_TERMINATION_IN_LNSRCH'\n",
            "     nfev: 21\n",
            "      nit: 0\n",
            "     njev: 21\n",
            "   status: 2\n",
            "  success: False\n",
            "        x: array([0.])\n"
          ]
        }
      ],
      "source": [
        "result = scipy.optimize.minimize(calc_loss, 0.0, jac=calc_grad, method='L-BFGS-B')\n",
        "\n",
        "# Returns an object with several fields, let's print the result to get an idea\n",
        "print(result)"
      ]
    },
    {
      "cell_type": "code",
      "execution_count": null,
      "metadata": {
        "colab": {
          "base_uri": "https://localhost:8080/"
        },
        "id": "7m-V-p0ph2M2",
        "outputId": "a472be50-4a6b-4091-8890-ac50ffcd3b81"
      },
      "outputs": [
        {
          "output_type": "stream",
          "name": "stdout",
          "text": [
            "ABNORMAL_TERMINATION_IN_LNSRCH\n"
          ]
        }
      ],
      "source": [
        "print(str(result.message))"
      ]
    },
    {
      "cell_type": "code",
      "execution_count": null,
      "metadata": {
        "colab": {
          "base_uri": "https://localhost:8080/"
        },
        "id": "HL1H7pHsh2M3",
        "outputId": "14b803f5-a008-45f3-aaee-425217d07a1d"
      },
      "outputs": [
        {
          "output_type": "stream",
          "name": "stdout",
          "text": [
            "[0.]\n"
          ]
        }
      ],
      "source": [
        "best_w = result.x\n",
        "print(best_w)"
      ]
    },
    {
      "cell_type": "code",
      "execution_count": null,
      "metadata": {
        "id": "Yec6wJTjh2M3"
      },
      "outputs": [],
      "source": []
    }
  ],
  "metadata": {
    "colab": {
      "provenance": [],
      "include_colab_link": true
    },
    "kernelspec": {
      "display_name": "Python 3 (ipykernel)",
      "language": "python",
      "name": "python3"
    },
    "language_info": {
      "codemirror_mode": {
        "name": "ipython",
        "version": 3
      },
      "file_extension": ".py",
      "mimetype": "text/x-python",
      "name": "python",
      "nbconvert_exporter": "python",
      "pygments_lexer": "ipython3",
      "version": "3.9.12"
    }
  },
  "nbformat": 4,
  "nbformat_minor": 0
}