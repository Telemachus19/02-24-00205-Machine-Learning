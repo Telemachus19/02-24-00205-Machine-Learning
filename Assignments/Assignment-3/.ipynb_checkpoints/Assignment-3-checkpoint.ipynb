{
 "cells": [
  {
   "cell_type": "markdown",
   "id": "bcaa76bd",
   "metadata": {},
   "source": [
    "# # Assignment 3: PCA And t-SNE"
   ]
  },
  {
   "cell_type": "markdown",
   "id": "36e58373",
   "metadata": {},
   "source": [
    "# Import Libraries"
   ]
  },
  {
   "cell_type": "code",
   "execution_count": null,
   "id": "ec175a1d",
   "metadata": {},
   "outputs": [],
   "source": [
    "from sklearn.manifold import TSNE\n",
    "from keras.datasets import mnist\n",
    "from sklearn.datasets import load_iris\n",
    "from numpy import reshape\n",
    "import seaborn as sns\n",
    "import pandas as pd\n",
    "\n",
    "import numpy as np\n",
    "import matplotlib.pyplot as plt\n",
    "\n",
    "from sklearn import decomposition\n",
    "from sklearn import datasets\n",
    "\n",
    "# initializing the pca\n",
    "from sklearn.decomposition import PCA\n"
   ]
  },
  {
   "cell_type": "markdown",
   "id": "ddfd8e87",
   "metadata": {},
   "source": [
    "# Load the MINST data"
   ]
  },
  {
   "cell_type": "markdown",
   "id": "2b20a521",
   "metadata": {},
   "source": [
    "MINST data is one of the famous publicly available datasets used for machine learning projects and tasks. It is a data set of handwritten numbers. Another public dataset you have explored is the Iris dataset which you have explored in the lab. More information about the MINST data.\n",
    " \n",
    "More information about the MINST dataset is found in several online resoruces, for example:\n",
    "http://yann.lecun.com/exdb/mnist/"
   ]
  },
  {
   "cell_type": "code",
   "execution_count": null,
   "id": "6a1550a4",
   "metadata": {},
   "outputs": [],
   "source": [
    "(x_train, y_train), (_ , _) = mnist.load_data()\n",
    "X = x_train[:3000]\n",
    "y = y_train[:3000]\n",
    "print(X.shape)\n",
    "print(y.shape)\n",
    "\n",
    "x_mnist = reshape(x_train, [x_train.shape[0], x_train.shape[1]*x_train.shape[2]])\n",
    "print(x_mnist.shape)"
   ]
  },
  {
   "cell_type": "markdown",
   "id": "cc08d606",
   "metadata": {},
   "source": [
    "# Run t-SNE on the loaded MINST data and display the results"
   ]
  },
  {
   "cell_type": "code",
   "execution_count": null,
   "id": "145a4d47",
   "metadata": {},
   "outputs": [],
   "source": [
    "tsne = TSNE(n_components=2, verbose=1, random_state=123)\n",
    "z = tsne.fit_transform(x_mnist)\n",
    "df = pd.DataFrame()\n",
    "df[\"y\"] = y_train\n",
    "df[\"comp-1\"] = z[:,0]\n",
    "df[\"comp-2\"] = z[:,1]\n",
    "\n",
    "sns.scatterplot(x=\"comp-1\", y=\"comp-2\", hue=df.y.tolist(),\n",
    "                palette=sns.color_palette(\"hls\", 10),\n",
    "                data=df).set(title=\"MNIST data T-SNE projection\")"
   ]
  },
  {
   "cell_type": "markdown",
   "id": "513bde0a",
   "metadata": {},
   "source": [
    "# Apply PCA"
   ]
  },
  {
   "cell_type": "code",
   "execution_count": null,
   "id": "3ded364e",
   "metadata": {},
   "outputs": [],
   "source": [
    "### To Do ###\n",
    "# Apply PCA on the original data. Try different types of components and plot the results\n",
    "############\n",
    "print(f'Total number of components used after PCA : {pca.n_components_}')"
   ]
  },
  {
   "cell_type": "code",
   "execution_count": null,
   "id": "0b28aa75",
   "metadata": {},
   "outputs": [],
   "source": [
    "train_img = pca.transform(x_mnist)\n",
    "print(f'train_img shape : {train_img.shape}')\n",
    "\n",
    "\n",
    "### To Do ###\n",
    "# Plot a scatter plot of the PCA components\n",
    "############\n"
   ]
  },
  {
   "cell_type": "markdown",
   "id": "fb5ada13",
   "metadata": {},
   "source": [
    "# Question: what are the different components you generated from PCA? Comment on the results."
   ]
  },
  {
   "cell_type": "code",
   "execution_count": null,
   "id": "d4a37a0c",
   "metadata": {},
   "outputs": [],
   "source": []
  },
  {
   "cell_type": "code",
   "execution_count": null,
   "id": "5ca49e9b",
   "metadata": {},
   "outputs": [],
   "source": [
    "### To Do ###\n",
    "# Apply t-SNE on the PCA components\n",
    "############\n",
    "\n",
    "sns.scatterplot(x=\"comp-1\", y=\"comp-2\", hue=df.y.tolist(),\n",
    "                palette=sns.color_palette(\"hls\", 10),\n",
    "                data=df).set(title=\"MNIST data T-SNE projection\")"
   ]
  },
  {
   "cell_type": "markdown",
   "id": "f6f85c76",
   "metadata": {},
   "source": [
    "# Question: What did you notice from the different figures you generated? \n",
    "You can check this link for more insight (until section 4)\n",
    "https://distill.pub/2016/misread-tsne/"
   ]
  },
  {
   "cell_type": "code",
   "execution_count": null,
   "id": "8c4348f9",
   "metadata": {},
   "outputs": [],
   "source": []
  }
 ],
 "metadata": {
  "kernelspec": {
   "display_name": "Python 3 (ipykernel)",
   "language": "python",
   "name": "python3"
  },
  "language_info": {
   "codemirror_mode": {
    "name": "ipython",
    "version": 3
   },
   "file_extension": ".py",
   "mimetype": "text/x-python",
   "name": "python",
   "nbconvert_exporter": "python",
   "pygments_lexer": "ipython3",
   "version": "3.9.12"
  }
 },
 "nbformat": 4,
 "nbformat_minor": 5
}
