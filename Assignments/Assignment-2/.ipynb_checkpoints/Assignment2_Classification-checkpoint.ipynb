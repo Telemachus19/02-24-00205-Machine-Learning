{
 "cells": [
  {
   "cell_type": "markdown",
   "metadata": {},
   "source": [
    "# Assignment 2: Classification"
   ]
  },
  {
   "cell_type": "markdown",
   "metadata": {},
   "source": [
    "## Import required libraries"
   ]
  },
  {
   "cell_type": "code",
   "execution_count": 1,
   "metadata": {},
   "outputs": [],
   "source": [
    "import os\n",
    "import numpy as np\n",
    "import pandas as pd\n",
    "\n",
    "import sklearn.linear_model\n",
    "import sklearn.tree\n",
    "import sklearn.metrics\n",
    "\n",
    "from matplotlib import pyplot as plt\n",
    "import seaborn as sns"
   ]
  },
  {
   "cell_type": "markdown",
   "metadata": {},
   "source": [
    "## Starter code students need to edit"
   ]
  },
  {
   "cell_type": "code",
   "execution_count": 2,
   "metadata": {
    "tags": []
   },
   "outputs": [],
   "source": [
    "def calc_TP_TN_FP_FN(ytrue_N, yhat_N):\n",
    "    ''' Compute counts of four possible outcomes of a binary classifier for evaluation.\n",
    "    \n",
    "    Args\n",
    "    ----\n",
    "    ytrue_N : 1D array of floats\n",
    "        Each entry represents the binary value (0 or 1) of 'true' label of one example\n",
    "        One entry per example in current dataset\n",
    "    yhat_N : 1D array of floats\n",
    "        Each entry represents a predicted binary value (either 0 or 1).\n",
    "        One entry per example in current dataset.\n",
    "        Needs to be same size as ytrue_N.\n",
    "\n",
    "    Returns\n",
    "    -------\n",
    "    TP : float\n",
    "        Number of true positives\n",
    "    TN : float\n",
    "        Number of true negatives\n",
    "    FP : float\n",
    "        Number of false positives\n",
    "    FN : float\n",
    "        Number of false negatives\n",
    "    '''\n",
    "    TP = 0.0\n",
    "    TN = 0.0\n",
    "    FP = 0.0\n",
    "    FN = 0.0\n",
    "    for i, ytrue_i in enumerate(ytrue_N):\n",
    "        if(ytrue_i == 1 and yhat_N[i] == 1): TP = TP + 1\n",
    "        if(ytrue_i == 1 and yhat_N[i] == 0): FN = FN + 1\n",
    "        if(ytrue_i == 0 and yhat_N[i] == 0): TN = TN + 1\n",
    "        if(ytrue_i == 0 and yhat_N[i] == 1): FP = FP + 1\n",
    "        \n",
    "    return TP, TN, FP, FN"
   ]
  },
  {
   "cell_type": "markdown",
   "metadata": {},
   "source": [
    "### Testing the  calc_TP_TN_FP_FN"
   ]
  },
  {
   "cell_type": "code",
   "execution_count": 3,
   "metadata": {},
   "outputs": [
    {
     "name": "stdout",
     "output_type": "stream",
     "text": [
      "TP: 2.0\n",
      "TN: 3.0\n",
      "FP: 1.0\n",
      "FN: 2.0\n",
      "True\n"
     ]
    }
   ],
   "source": [
    "N = 8\n",
    "ytrue_N = np.asarray([0., 0., 0., 0., 1., 1., 1., 1.])\n",
    "yhat_N  = np.asarray([0., 0., 1., 0., 1., 1., 0., 0.])\n",
    "TP, TN, FP, FN = calc_TP_TN_FP_FN(ytrue_N, yhat_N)\n",
    "print(\"TP:\",TP)\n",
    "print(\"TN:\",TN)\n",
    "print(\"FP:\",FP)\n",
    "print(\"FN:\",FN)\n",
    "print(np.allclose(TP + TN + FP + FN, N))"
   ]
  },
  {
   "cell_type": "markdown",
   "metadata": {},
   "source": [
    "# Starter code that should be used as is.\n",
    "\n",
    "No need to edit these functions!"
   ]
  },
  {
   "cell_type": "code",
   "execution_count": 4,
   "metadata": {},
   "outputs": [],
   "source": [
    "def calc_perf_metrics_for_threshold(ytrue_N, yproba1_N, thresh):\n",
    "    ''' Compute performance metrics for a given probabilistic classifier and threshold\n",
    "    '''\n",
    "    tp, tn, fp, fn = calc_TP_TN_FP_FN(ytrue_N, yproba1_N >= thresh)\n",
    "    ## Compute ACC, TPR, TNR, etc.\n",
    "    acc = (tp + tn) / float(tp + tn + fp + fn + 1e-10)\n",
    "    tpr = tp / float(tp + fn + 1e-10)\n",
    "    tnr = tn / float(fp + tn + 1e-10)\n",
    "    ppv = tp / float(tp + fp + 1e-10)\n",
    "    npv = tn / float(tn + fn + 1e-10)\n",
    "    \n",
    "    return acc, tpr, tnr, ppv, npv\n",
    "\n",
    "def print_perf_metrics_for_threshold(ytrue_N, yproba1_N, thresh):\n",
    "    ''' Pretty print perf. metrics for a given probabilistic classifier and threshold\n",
    "    '''\n",
    "    acc, tpr, tnr, ppv, npv = calc_perf_metrics_for_threshold(ytrue_N, yproba1_N, thresh)\n",
    "    \n",
    "    ## Pretty print the results\n",
    "    print(\"%.3f ACC\" % acc)\n",
    "    print(\"%.3f TPR\" % tpr)\n",
    "    print(\"%.3f TNR\" % tnr)\n",
    "    print(\"%.3f PPV\" % ppv)\n",
    "    print(\"%.3f NPV\" % npv)"
   ]
  },
  {
   "cell_type": "code",
   "execution_count": 5,
   "metadata": {},
   "outputs": [],
   "source": [
    "def calc_confusion_matrix_for_threshold(ytrue_N, yproba1_N, thresh):\n",
    "    ''' Compute the confusion matrix for a given probabilistic classifier and threshold\n",
    "    \n",
    "    Args\n",
    "    ----\n",
    "    ytrue_N : 1D array of floats\n",
    "        Each entry represents the binary value (0 or 1) of 'true' label of one example\n",
    "        One entry per example in current dataset\n",
    "    yproba1_N : 1D array of floats\n",
    "        Each entry represents a probability (between 0 and 1) that correct label is positive (1)\n",
    "        One entry per example in current dataset\n",
    "        Needs to be same size as ytrue_N\n",
    "    thresh : float\n",
    "        Scalar threshold for converting probabilities into hard decisions\n",
    "        Calls an example \"positive\" if yproba1 >= thresh\n",
    "\n",
    "    Returns\n",
    "    -------\n",
    "    cm_df : Pandas DataFrame\n",
    "        Can be printed like print(cm_df) to easily display results\n",
    "    '''\n",
    "    cm = sklearn.metrics.confusion_matrix(ytrue_N, yproba1_N >= thresh)\n",
    "    cm_df = pd.DataFrame(data=cm, columns=[0, 1], index=[0, 1])\n",
    "    cm_df.columns.name = 'Predicted'\n",
    "    cm_df.index.name = 'True'\n",
    "    return cm_df"
   ]
  },
  {
   "cell_type": "code",
   "execution_count": 6,
   "metadata": {},
   "outputs": [],
   "source": [
    "def compute_perf_metrics_across_thresholds(ytrue_N, yproba1_N, thresh_grid=None):\n",
    "    ''' Compute common binary classifier performance metrics across many thresholds\n",
    "    \n",
    "    If no array of thresholds is provided, will use all 'unique' values\n",
    "    in the yproba1_N array to define all possible thresholds with different performance.\n",
    "    \n",
    "    Args\n",
    "    ----\n",
    "    ytrue_N : 1D array of floats\n",
    "        Each entry represents the binary value (0 or 1) of 'true' label of one example\n",
    "        One entry per example in current dataset\n",
    "    yproba1_N : 1D array of floats\n",
    "        Each entry represents a probability (between 0 and 1) that correct label is positive (1)\n",
    "        One entry per example in current dataset\n",
    "\n",
    "    Returns\n",
    "    -------\n",
    "    thresh_grid : 1D array of floats\n",
    "        One entry for each possible threshold\n",
    "    perf_dict : dict, with key, value pairs:\n",
    "        * 'acc' : 1D array of accuracy values (one per threshold)\n",
    "        * 'ppv' : 1D array of positive predictive values (one per threshold)\n",
    "        * 'npv' : 1D array of negative predictive values (one per threshold)\n",
    "        * 'tpr' : 1D array of true positive rates (one per threshold)\n",
    "        * 'tnr' : 1D array of true negative rates (one per threshold)\n",
    "    '''\n",
    "    if thresh_grid is None:\n",
    "        bin_edges = np.linspace(0, 1.001, 21)\n",
    "        thresh_grid = np.sort(np.hstack([bin_edges, np.unique(yproba1_N)]))\n",
    "    tpr_grid = np.zeros_like(thresh_grid)\n",
    "    tnr_grid = np.zeros_like(thresh_grid)\n",
    "    ppv_grid = np.zeros_like(thresh_grid)\n",
    "    npv_grid = np.zeros_like(thresh_grid)\n",
    "    acc_grid = np.zeros_like(thresh_grid)\n",
    "    for tt, thresh in enumerate(thresh_grid):\n",
    "        # Apply specific threshold to convert probas into hard binary values (0 or 1)\n",
    "        # Then count number of true positives, true negatives, etc.\n",
    "        # Then compute metrics like accuracy and true positive rate\n",
    "        acc, tpr, tnr, ppv, npv = calc_perf_metrics_for_threshold(ytrue_N, yproba1_N, thresh)\n",
    "        acc_grid[tt] = acc\n",
    "        tpr_grid[tt] = tpr\n",
    "        tnr_grid[tt] = tnr\n",
    "        ppv_grid[tt] = ppv\n",
    "        npv_grid[tt] = npv\n",
    "    return thresh_grid, dict(\n",
    "        acc=acc_grid,\n",
    "        tpr=tpr_grid,\n",
    "        tnr=tnr_grid,\n",
    "        ppv=ppv_grid,\n",
    "        npv=npv_grid)\n",
    "\n",
    "def make_plot_perf_vs_threshold(ytrue_N, yproba1_N, bin_edges=np.linspace(0, 1, 21)):\n",
    "    ''' Make pretty plot of binary classifier performance as threshold increases\n",
    "    \n",
    "    Produces a plot with 3 rows:\n",
    "    * top row: hist of predicted probabilities for negative examples (shaded red)\n",
    "    * middle row: hist of predicted probabilities for positive examples (shaded blue)\n",
    "    * bottom row: line plots of metrics that require hard decisions (ACC, TPR, TNR, etc.)\n",
    "    '''\n",
    "    fig, axes = plt.subplots(nrows=3, ncols=1, figsize=(12, 8))\n",
    "    sns.distplot(\n",
    "        yproba1_N[ytrue_N == 0],\n",
    "        color='r', bins=bin_edges, kde=False, rug=True, ax=axes[0]);\n",
    "    sns.distplot(\n",
    "        yproba1_N[ytrue_N == 1],\n",
    "        color='b', bins=bin_edges, kde=False, rug=True, ax=axes[1]);\n",
    "\n",
    "    thresh_grid, perf_grid = compute_perf_metrics_across_thresholds(ytrue_N, yproba1_N)\n",
    "    axes[2].plot(thresh_grid, perf_grid['acc'], 'k-', label='accuracy')\n",
    "    axes[2].plot(thresh_grid, perf_grid['tpr'], 'b-', label='TPR (recall/sensitivity)')\n",
    "    axes[2].plot(thresh_grid, perf_grid['tnr'], 'g-', label='TNR (specificity)')\n",
    "    axes[2].plot(thresh_grid, perf_grid['ppv'], 'c-', label='PPV (precision)')\n",
    "    axes[2].plot(thresh_grid, perf_grid['npv'], 'm-', label='NPV')\n",
    "    \n",
    "    axes[2].legend()\n",
    "    axes[2].set_ylim([0, 1])"
   ]
  },
  {
   "cell_type": "markdown",
   "metadata": {},
   "source": [
    "# Problem 1: Binary Classifier for Cancer-Risk Screening"
   ]
  },
  {
   "cell_type": "markdown",
   "metadata": {},
   "source": [
    "### Load the dataset"
   ]
  },
  {
   "cell_type": "code",
   "execution_count": 7,
   "metadata": {},
   "outputs": [],
   "source": [
    "# Load 3 feature version of x arrays\n",
    "x_tr_M3 = np.loadtxt('data_cancer/x_train.csv', delimiter=',', skiprows=1)\n",
    "x_va_N3 = np.loadtxt('data_cancer/x_valid.csv', delimiter=',', skiprows=1)\n",
    "x_te_N3 = np.loadtxt('data_cancer/x_test.csv', delimiter=',', skiprows=1)\n",
    "\n",
    "# 2 feature version of x arrays\n",
    "x_tr_M2 = x_tr_M3[:, :2].copy()\n",
    "x_va_N2 = x_va_N3[:, :2].copy()\n",
    "x_te_N2 = x_te_N3[:, :2].copy()"
   ]
  },
  {
   "cell_type": "code",
   "execution_count": 8,
   "metadata": {},
   "outputs": [],
   "source": [
    "y_tr_M = np.loadtxt('data_cancer/y_train.csv', delimiter=',', skiprows=1)\n",
    "y_va_N = np.loadtxt('data_cancer/y_valid.csv', delimiter=',', skiprows=1)\n",
    "y_te_N = np.loadtxt('data_cancer/y_test.csv', delimiter=',', skiprows=1)"
   ]
  },
  {
   "cell_type": "markdown",
   "metadata": {},
   "source": [
    "## Problem 1a: Data Exploration"
   ]
  },
  {
   "cell_type": "markdown",
   "metadata": {},
   "source": [
    "### **1a(i):** What fraction of the provided patients have cancer in the training set, the validation set, and the test set? "
   ]
  },
  {
   "cell_type": "code",
   "execution_count": 9,
   "metadata": {},
   "outputs": [
    {
     "name": "stdout",
     "output_type": "stream",
     "text": [
      "390\n",
      "[0. 1.] [335  55]\n",
      "180\n",
      "[0. 1.] [155  25]\n",
      "180\n",
      "[0. 1.] [155  25]\n",
      "frac has_cancer on TRAIN: 0.141\n",
      "frac has_cancer on VALID: 0.139\n",
      "frac has_cancer on TEST : 0.139\n"
     ]
    }
   ],
   "source": [
    "print(y_tr_M.size)\n",
    "y_tr_unique,y_tr_counts = np.unique(y_tr_M,return_counts=1)\n",
    "print(y_tr_unique,y_tr_counts)\n",
    "\n",
    "print(y_va_N.size)\n",
    "y_va_unique,y_va_counts = np.unique(y_va_N,return_counts=1)\n",
    "print(y_va_unique,y_va_counts)\n",
    "\n",
    "print(y_te_N.size)\n",
    "y_te_unique,y_te_counts = np.unique(y_te_N,return_counts=1)\n",
    "print(y_te_unique,y_te_counts)\n",
    "\n",
    "print(\"frac has_cancer on TRAIN: %.3f\" % (y_tr_counts[1]/y_tr_M.size) ) # TODO edit the printed values\n",
    "print(\"frac has_cancer on VALID: %.3f\" % (y_va_counts[1]/y_va_N.size) )\n",
    "print(\"frac has_cancer on TEST : %.3f\" % (y_te_counts[1]/y_te_N.size) )"
   ]
  },
  {
   "cell_type": "code",
   "execution_count": 10,
   "metadata": {},
   "outputs": [
    {
     "name": "stdout",
     "output_type": "stream",
     "text": [
      "                0           1           2\n",
      "count  390.000000  390.000000  390.000000\n",
      "mean    64.921885    0.164103    1.012221\n",
      "std      4.831631    0.370844    1.011603\n",
      "min     45.303590    0.000000    0.000531\n",
      "25%     61.763733    0.000000    0.300800\n",
      "50%     65.087790    0.000000    0.702928\n",
      "75%     68.277820    0.000000    1.402915\n",
      "max     79.766530    1.000000    6.721334\n"
     ]
    }
   ],
   "source": [
    "print(pd.DataFrame(x_tr_M3).describe())"
   ]
  },
  {
   "cell_type": "markdown",
   "metadata": {
    "tags": []
   },
   "source": [
    "### **1a(ii):** Looking at the features data contained in the training set 𝑥 array, what feature preprocessing (if any) would you recommend to improve a decision tree's performance?"
   ]
  },
  {
   "cell_type": "markdown",
   "metadata": {},
   "source": [
    "**Answer**: TODO"
   ]
  },
  {
   "cell_type": "markdown",
   "metadata": {
    "tags": []
   },
   "source": [
    "### 1a(iii): Looking at the features data contained in the training set 𝑥 array, what feature preprocessing (if any) would you recommend to improve logistic regression's performance?"
   ]
  },
  {
   "cell_type": "markdown",
   "metadata": {},
   "source": [
    "**Answer**: TODO"
   ]
  },
  {
   "cell_type": "markdown",
   "metadata": {},
   "source": [
    "## Problem 1b: The predict-0-always baseline"
   ]
  },
  {
   "cell_type": "markdown",
   "metadata": {},
   "source": [
    "### Problem 1b(i): Compute the accuracy of the predict-0-always classifier on validation and test set"
   ]
  },
  {
   "cell_type": "code",
   "execution_count": 11,
   "metadata": {},
   "outputs": [
    {
     "name": "stdout",
     "output_type": "stream",
     "text": [
      "acc on VALID: 0.861\n",
      "acc on TEST : 0.861\n"
     ]
    }
   ],
   "source": [
    "print(\"acc on VALID: %.3f\" % (y_va_counts[0]/y_va_N.size)) # TODO edit values!\n",
    "print(\"acc on TEST : %.3f\" % (y_te_counts[0]/y_va_N.size))"
   ]
  },
  {
   "cell_type": "markdown",
   "metadata": {},
   "source": [
    "### Problem 1b(ii): Print a confusion matrix for predict-0-always on the validation set."
   ]
  },
  {
   "cell_type": "code",
   "execution_count": 12,
   "metadata": {},
   "outputs": [
    {
     "data": {
      "text/html": [
       "<div>\n",
       "<style scoped>\n",
       "    .dataframe tbody tr th:only-of-type {\n",
       "        vertical-align: middle;\n",
       "    }\n",
       "\n",
       "    .dataframe tbody tr th {\n",
       "        vertical-align: top;\n",
       "    }\n",
       "\n",
       "    .dataframe thead th {\n",
       "        text-align: right;\n",
       "    }\n",
       "</style>\n",
       "<table border=\"1\" class=\"dataframe\">\n",
       "  <thead>\n",
       "    <tr style=\"text-align: right;\">\n",
       "      <th>Predicted</th>\n",
       "      <th>0</th>\n",
       "      <th>1</th>\n",
       "    </tr>\n",
       "    <tr>\n",
       "      <th>True</th>\n",
       "      <th></th>\n",
       "      <th></th>\n",
       "    </tr>\n",
       "  </thead>\n",
       "  <tbody>\n",
       "    <tr>\n",
       "      <th>0</th>\n",
       "      <td>155</td>\n",
       "      <td>0</td>\n",
       "    </tr>\n",
       "    <tr>\n",
       "      <th>1</th>\n",
       "      <td>25</td>\n",
       "      <td>0</td>\n",
       "    </tr>\n",
       "  </tbody>\n",
       "</table>\n",
       "</div>"
      ],
      "text/plain": [
       "Predicted    0  1\n",
       "True             \n",
       "0          155  0\n",
       "1           25  0"
      ]
     },
     "execution_count": 12,
     "metadata": {},
     "output_type": "execute_result"
    }
   ],
   "source": [
    "# TODO call print(calc_confusion_matrix_for_threshold(...))\n",
    "calc_confusion_matrix_for_threshold(y_va_N, np.zeros(y_va_N.size), thresh=1)"
   ]
  },
  {
   "cell_type": "markdown",
   "metadata": {},
   "source": [
    "### Problem 1b(iii): This classifier gets pretty good accuracy! Why wouldn't we want to use it?"
   ]
  },
  {
   "cell_type": "markdown",
   "metadata": {},
   "source": [
    "**Answer**: TODO"
   ]
  },
  {
   "cell_type": "markdown",
   "metadata": {},
   "source": [
    "### Problem 1b(iv): For the intended application (screening patients before biopsy), describe the possible mistakes the classifier can make in task-specific terms. What costs does each mistake entail (lost time? lost money? life-threatening harm?). How do you recommend evaluating the classifier to be mindful of these costs?\n"
   ]
  },
  {
   "cell_type": "markdown",
   "metadata": {},
   "source": [
    "**Answer**: TODO"
   ]
  },
  {
   "cell_type": "markdown",
   "metadata": {},
   "source": [
    "## 1c : Logistic Regression"
   ]
  },
  {
   "cell_type": "markdown",
   "metadata": {},
   "source": [
    "### Model Fitting for 1c(i)"
   ]
  },
  {
   "cell_type": "code",
   "execution_count": 13,
   "metadata": {},
   "outputs": [
    {
     "name": "stdout",
     "output_type": "stream",
     "text": [
      "[0.4068208375797142, 0.4068205701389862, 0.40681972407129724, 0.4068170489679098, 0.40680859167570366, 0.40678185641466225, 0.40669744011711584, 0.4064317392339509, 0.4056038690271016, 0.4031031283060512, 0.39621753776750784, 0.3813703271923013, 0.3619762448967392, 0.34950735902206015, 0.34548368801773166, 0.34448812208643775, 0.3438944278238768, 0.34346927661995685, 0.3433269626298021, 0.3433026958768976, 0.3432997487694172, 0.34329943401388985, 0.34329940188281843, 0.34329939866319015, 0.343299398339115, 0.34329939830669104, 0.34329939830348266, 0.3432993983031701, 0.34329939830314143, 0.3432993983031395, 0.3432993983031394]\n",
      "[0.4029601751013718, 0.4029599431528289, 0.40295920157537324, 0.40295686224767663, 0.40294947004707876, 0.4029260951416148, 0.4028523016886295, 0.40262011949779847, 0.4018975218144944, 0.39972265243742505, 0.3938038738372083, 0.38152004684433366, 0.36738990239433694, 0.3617867575394682, 0.36284998461855367, 0.3637924742552152, 0.3627205432145956, 0.3607300441110288, 0.35935957884730574, 0.35877356378330444, 0.35856824795094866, 0.3585010700435565, 0.3584795981686222, 0.35847278351283607, 0.35847062290595755, 0.358469940017333, 0.3584697247073374, 0.35846965669004, 0.3584696351875057, 0.35846962838842394, 0.3584696262384262]\n",
      "The C for the model is  30\n"
     ]
    }
   ],
   "source": [
    "C_grid = np.logspace(-9, 6, 31)\n",
    "# 2-feature\n",
    "tr_loss_list = list()\n",
    "va_loss_list = list()\n",
    "for C in C_grid:\n",
    "    # TODO fit, predict_proba, and evaluate logistic loss\n",
    "    lr = sklearn.linear_model.LogisticRegression(C=C)\n",
    "    model = lr.fit(x_tr_M2,y_tr_M)\n",
    "    pred_tr = model.predict_proba(x_tr_M2)\n",
    "    tr_loss_list.append(sklearn.metrics.log_loss(y_tr_M,pred_tr))\n",
    "    pred_va = model.predict_proba(x_va_N2)\n",
    "    va_loss_list.append(sklearn.metrics.log_loss(y_va_N,pred_va))    \n",
    "# Record the best model here\n",
    "print(tr_loss_list)\n",
    "\n",
    "print(va_loss_list)\n",
    "\n",
    "bestC = np.argmin(va_loss_list)\n",
    "print(\"The C for the model is \",np.argmin(va_loss_list))"
   ]
  },
  {
   "cell_type": "markdown",
   "metadata": {},
   "source": [
    "### **1c(i):** Apply your logistic regression code to the \"2 feature\" $x$ data, and make a plot of logistic loss (y-axis) vs. C (x-axis) on the training set and validation set. Which value of $C$ do you prefer? "
   ]
  },
  {
   "cell_type": "code",
   "execution_count": 14,
   "metadata": {},
   "outputs": [
    {
     "name": "stdout",
     "output_type": "stream",
     "text": [
      "best C for LR with 2 feature data: 30.000\n"
     ]
    },
    {
     "data": {
      "image/png": "[encoded data removed]",
      "text/plain": [
       "<Figure size 432x288 with 1 Axes>"
      ]
     },
     "metadata": {
      "needs_background": "light"
     },
     "output_type": "display_data"
    }
   ],
   "source": [
    "# TODO make plot\n",
    "plt.xlabel('log10(C)');\n",
    "plt.ylabel('logistic loss');\n",
    "plt.ylim([0.0, 0.7]);\n",
    "plt.plot(np.log10(C_grid),tr_loss_list)\n",
    "plt.plot(np.log10(C_grid),va_loss_list)\n",
    "\n",
    "# TODO add legend\n",
    "#plt.legend(...);\n",
    "plt.legend([\"Training Loss\",\"Validation Loss\"]);\n",
    "\n",
    "print(\"best C for LR with 2 feature data: %.3f\" % bestC) # TODO\n"
   ]
  },
  {
   "cell_type": "markdown",
   "metadata": {},
   "source": [
    "### **1c(ii):** Make a performance plot that shows how good your probabilistic predictions from the best 1c(i) classifier are on the validation set. "
   ]
  },
  {
   "cell_type": "code",
   "execution_count": 15,
   "metadata": {},
   "outputs": [
    {
     "name": "stderr",
     "output_type": "stream",
     "text": [
      "C:\\Users\\aashr\\anaconda3\\lib\\site-packages\\seaborn\\distributions.py:2619: FutureWarning: `distplot` is a deprecated function and will be removed in a future version. Please adapt your code to use either `displot` (a figure-level function with similar flexibility) or `histplot` (an axes-level function for histograms).\n",
      "  warnings.warn(msg, FutureWarning)\n",
      "C:\\Users\\aashr\\anaconda3\\lib\\site-packages\\seaborn\\distributions.py:2103: FutureWarning: The `axis` variable is no longer used and will be removed. Instead, assign variables directly to `x` or `y`.\n",
      "  warnings.warn(msg, FutureWarning)\n",
      "C:\\Users\\aashr\\anaconda3\\lib\\site-packages\\seaborn\\distributions.py:2619: FutureWarning: `distplot` is a deprecated function and will be removed in a future version. Please adapt your code to use either `displot` (a figure-level function with similar flexibility) or `histplot` (an axes-level function for histograms).\n",
      "  warnings.warn(msg, FutureWarning)\n",
      "C:\\Users\\aashr\\anaconda3\\lib\\site-packages\\seaborn\\distributions.py:2103: FutureWarning: The `axis` variable is no longer used and will be removed. Instead, assign variables directly to `x` or `y`.\n",
      "  warnings.warn(msg, FutureWarning)\n"
     ]
    },
    {
     "data": {
      "image/png": "[encoded data removed]",
      "text/plain": [
       "<Figure size 864x576 with 3 Axes>"
      ]
     },
     "metadata": {
      "needs_background": "light"
     },
     "output_type": "display_data"
    }
   ],
   "source": [
    "# TODO call make_plot_perf_vs_threshold(...)\n",
    "lr2 = sklearn.linear_model.LogisticRegression(C = C_grid[bestC])\n",
    "bestModel2 = lr2.fit(x_tr_M2,y_tr_M)\n",
    "pred_va2 = bestModel2.predict_proba(x_va_N2)[::,1]\n",
    "\n",
    "make_plot_perf_vs_threshold(y_va_N,pred_va2)"
   ]
  },
  {
   "cell_type": "markdown",
   "metadata": {},
   "source": [
    "### Model fitting for 1c(iii)"
   ]
  },
  {
   "cell_type": "code",
   "execution_count": 16,
   "metadata": {},
   "outputs": [],
   "source": [
    "# TODO like 1c(i) but with 3 features"
   ]
  },
  {
   "cell_type": "code",
   "execution_count": 17,
   "metadata": {},
   "outputs": [
    {
     "name": "stdout",
     "output_type": "stream",
     "text": [
      "[0.4068208334913831, 0.40682055712648024, 0.40681968327602924, 0.40681691967542083, 0.40680818204638813, 0.4067805667779788, 0.40669334946858504, 0.40641881281778564, 0.4055629746677968, 0.40297419238217785, 0.39581249937104124, 0.3801197161393119, 0.35829277731804954, 0.3396718698795487, 0.3243875362025408, 0.31246432075874486, 0.3070196046070269, 0.30539396193334434, 0.30502970121001016, 0.3049735439833494, 0.30496688214765455, 0.3049661727033956, 0.3049661006574078, 0.3049660934414209, 0.3049660927078099, 0.30496609263306057, 0.3049660926258149, 0.30496609262523683, 0.304966092625197, 0.30496609262519936, 0.3049660926252016]\n",
      "[0.40296017012853647, 0.4029599254957977, 0.4029591538956096, 0.4029567059728262, 0.4029489726733087, 0.40292453078825885, 0.40284734416657436, 0.4026044496312558, 0.4018479072493915, 0.39956575590989035, 0.3933068129769462, 0.3799503119092921, 0.36255391672533954, 0.3480352820186612, 0.3308896422777364, 0.31019397214784544, 0.29509394651117565, 0.2868787927228458, 0.2831176803496892, 0.2816899289885371, 0.28120662196516766, 0.2810496591687881, 0.28099979140592146, 0.28098399935365015, 0.28097898565308543, 0.28097739236239155, 0.28097690380418433, 0.28097674160330843, 0.2809766893331816, 0.28097667267709037, 0.2809766673961463]\n",
      "The C for the model is  30\n"
     ]
    }
   ],
   "source": [
    "C_grid = np.logspace(-9, 6, 31)\n",
    "# 3-feature\n",
    "tr_loss_list = list()\n",
    "va_loss_list = list()\n",
    "for C in C_grid:\n",
    "    # TODO fit, predict_proba, and evaluate logistic loss\n",
    "    lr = sklearn.linear_model.LogisticRegression(C=C)\n",
    "    model = lr.fit(x_tr_M3,y_tr_M)\n",
    "    pred_tr = model.predict_proba(x_tr_M3)\n",
    "    tr_loss_list.append(sklearn.metrics.log_loss(y_tr_M,pred_tr))\n",
    "    pred_va = model.predict_proba(x_va_N3)\n",
    "    va_loss_list.append(sklearn.metrics.log_loss(y_va_N,pred_va))    \n",
    "# Record the best model here\n",
    "print(tr_loss_list)\n",
    "print(va_loss_list)\n",
    "\n",
    "bestC = np.argmin(va_loss_list)\n",
    "print(\"The C for the model is \",np.argmin(va_loss_list))"
   ]
  },
  {
   "cell_type": "markdown",
   "metadata": {},
   "source": [
    "### **1c(iii):** Plot of logistic loss (y-axis) vs. C (x-axis) on the training set and validation set. Which value of $C$ do you prefer? "
   ]
  },
  {
   "cell_type": "code",
   "execution_count": 18,
   "metadata": {},
   "outputs": [
    {
     "name": "stdout",
     "output_type": "stream",
     "text": [
      "best C for LR with 3 feature data: 30.000\n"
     ]
    },
    {
     "data": {
      "image/png": "[encoded data removed]",
      "text/plain": [
       "<Figure size 432x288 with 1 Axes>"
      ]
     },
     "metadata": {
      "needs_background": "light"
     },
     "output_type": "display_data"
    }
   ],
   "source": [
    "# TODO make plot\n",
    "plt.xlabel('log10(C)');\n",
    "plt.ylabel('logistic loss');\n",
    "plt.ylim([0.0, 0.7]);\n",
    "plt.plot(np.log10(C_grid),tr_loss_list)\n",
    "plt.plot(np.log10(C_grid),va_loss_list)\n",
    "\n",
    "# TODO add legend\n",
    "#plt.legend(...);\n",
    "plt.legend([\"Training Loss\",\"Validation Loss\"]);\n",
    "\n",
    "print(\"best C for LR with 3 feature data: %.3f\" % bestC) # TODO\n"
   ]
  },
  {
   "cell_type": "markdown",
   "metadata": {},
   "source": [
    "### Problem 1c(iv):  Make a performance plot that shows how good your probabilistic predictions from the best 1c(iii) classifier are on the validation set.  "
   ]
  },
  {
   "cell_type": "code",
   "execution_count": 19,
   "metadata": {},
   "outputs": [
    {
     "name": "stderr",
     "output_type": "stream",
     "text": [
      "C:\\Users\\aashr\\anaconda3\\lib\\site-packages\\seaborn\\distributions.py:2619: FutureWarning: `distplot` is a deprecated function and will be removed in a future version. Please adapt your code to use either `displot` (a figure-level function with similar flexibility) or `histplot` (an axes-level function for histograms).\n",
      "  warnings.warn(msg, FutureWarning)\n",
      "C:\\Users\\aashr\\anaconda3\\lib\\site-packages\\seaborn\\distributions.py:2103: FutureWarning: The `axis` variable is no longer used and will be removed. Instead, assign variables directly to `x` or `y`.\n",
      "  warnings.warn(msg, FutureWarning)\n",
      "C:\\Users\\aashr\\anaconda3\\lib\\site-packages\\seaborn\\distributions.py:2619: FutureWarning: `distplot` is a deprecated function and will be removed in a future version. Please adapt your code to use either `displot` (a figure-level function with similar flexibility) or `histplot` (an axes-level function for histograms).\n",
      "  warnings.warn(msg, FutureWarning)\n",
      "C:\\Users\\aashr\\anaconda3\\lib\\site-packages\\seaborn\\distributions.py:2103: FutureWarning: The `axis` variable is no longer used and will be removed. Instead, assign variables directly to `x` or `y`.\n",
      "  warnings.warn(msg, FutureWarning)\n"
     ]
    },
    {
     "data": {
      "image/png": "[encoded data removed]",
      "text/plain": [
       "<Figure size 864x576 with 3 Axes>"
      ]
     },
     "metadata": {
      "needs_background": "light"
     },
     "output_type": "display_data"
    }
   ],
   "source": [
    "# TODO call make_plot_perf_vs_threshold(...)\n",
    "lr3 = sklearn.linear_model.LogisticRegression(C = C_grid[bestC])\n",
    "bestModel3 = lr3.fit(x_tr_M3,y_tr_M)\n",
    "pred_va3 = bestModel3.predict_proba(x_va_N3)[::,1]\n",
    "\n",
    "make_plot_perf_vs_threshold(y_va_N,pred_va3)"
   ]
  },
  {
   "cell_type": "markdown",
   "metadata": {},
   "source": [
    "## Problem 1d: Decision Tree"
   ]
  },
  {
   "cell_type": "markdown",
   "metadata": {},
   "source": [
    "### Model fitting code for decision tree 1d(i)"
   ]
  },
  {
   "cell_type": "code",
   "execution_count": 20,
   "metadata": {},
   "outputs": [
    {
     "name": "stdout",
     "output_type": "stream",
     "text": [
      "6\n"
     ]
    }
   ],
   "source": [
    "min_samples_leaf_grid = np.asarray([1, 2, 5, 10, 20, 50, 100, 200, y_tr_M.size])\n",
    "\n",
    "tr_loss_list = list()\n",
    "va_loss_list = list()\n",
    "for min_samples_leaf in min_samples_leaf_grid:\n",
    "    tree = sklearn.tree.DecisionTreeClassifier(\n",
    "        criterion='entropy', min_samples_leaf=min_samples_leaf)\n",
    "\n",
    "    # TODO fit, predict_proba, and compute logistic loss\n",
    "    dsTree = tree.fit(x_tr_M3,y_tr_M)\n",
    "    dsPredTr = dsTree.predict_proba(x_tr_M3)\n",
    "    tr_loss_list.append(sklearn.metrics.log_loss(y_tr_M,dsPredTr))\n",
    "    dsPredVa = dsTree.predict_proba(x_va_N3)\n",
    "    va_loss_list.append(sklearn.metrics.log_loss(y_va_N,dsPredVa))\n",
    "\n",
    "# TODO compute best value for min_samples_leaf\n",
    "bestMinSample = np.argmin(va_loss_list)\n",
    "print(bestMinSample)"
   ]
  },
  {
   "cell_type": "markdown",
   "metadata": {},
   "source": [
    "### **1d(i):** Plot of logistic loss (y-axis) vs. min_samples_leaf (x-axis) on the training set and validation set. Which value of min_samples_leaf do you prefer? "
   ]
  },
  {
   "cell_type": "code",
   "execution_count": 21,
   "metadata": {},
   "outputs": [
    {
     "name": "stdout",
     "output_type": "stream",
     "text": [
      "best min_samples_leaf with 3 feature data: 100.000\n"
     ]
    },
    {
     "data": {
      "image/png": "[encoded data removed]",
      "text/plain": [
       "<Figure size 432x288 with 1 Axes>"
      ]
     },
     "metadata": {
      "needs_background": "light"
     },
     "output_type": "display_data"
    }
   ],
   "source": [
    "# TODO plot\n",
    "plt.xlabel('min_samples_leaf');\n",
    "plt.ylabel('logistic loss');\n",
    "plt.ylim([0.0, 1.0]);\n",
    "plt.plot(min_samples_leaf_grid,tr_loss_list)\n",
    "plt.plot(min_samples_leaf_grid,va_loss_list)\n",
    "\n",
    "print(\"best min_samples_leaf with 3 feature data: %.3f\" % min_samples_leaf_grid[bestMinSample]) # TODO"
   ]
  },
  {
   "cell_type": "markdown",
   "metadata": {},
   "source": [
    "###  **1d(ii):** Make a performance plot that shows how good your probabilistic predictions from the best 1c(iii) classifier are on the validation set. "
   ]
  },
  {
   "cell_type": "code",
   "execution_count": 22,
   "metadata": {},
   "outputs": [
    {
     "name": "stderr",
     "output_type": "stream",
     "text": [
      "C:\\Users\\aashr\\anaconda3\\lib\\site-packages\\seaborn\\distributions.py:2619: FutureWarning: `distplot` is a deprecated function and will be removed in a future version. Please adapt your code to use either `displot` (a figure-level function with similar flexibility) or `histplot` (an axes-level function for histograms).\n",
      "  warnings.warn(msg, FutureWarning)\n",
      "C:\\Users\\aashr\\anaconda3\\lib\\site-packages\\seaborn\\distributions.py:2103: FutureWarning: The `axis` variable is no longer used and will be removed. Instead, assign variables directly to `x` or `y`.\n",
      "  warnings.warn(msg, FutureWarning)\n",
      "C:\\Users\\aashr\\anaconda3\\lib\\site-packages\\seaborn\\distributions.py:2619: FutureWarning: `distplot` is a deprecated function and will be removed in a future version. Please adapt your code to use either `displot` (a figure-level function with similar flexibility) or `histplot` (an axes-level function for histograms).\n",
      "  warnings.warn(msg, FutureWarning)\n",
      "C:\\Users\\aashr\\anaconda3\\lib\\site-packages\\seaborn\\distributions.py:2103: FutureWarning: The `axis` variable is no longer used and will be removed. Instead, assign variables directly to `x` or `y`.\n",
      "  warnings.warn(msg, FutureWarning)\n"
     ]
    },
    {
     "data": {
      "image/png": "[encoded data removed]",
      "text/plain": [
       "<Figure size 864x576 with 3 Axes>"
      ]
     },
     "metadata": {
      "needs_background": "light"
     },
     "output_type": "display_data"
    }
   ],
   "source": [
    "# TODO call make_plot_perf_vs_threshold\n",
    "tree = sklearn.tree.DecisionTreeClassifier(\n",
    "        criterion='entropy', min_samples_leaf=min_samples_leaf_grid[bestMinSample])\n",
    "dsTree = tree.fit(x_tr_M3,y_tr_M)\n",
    "dsPredTr = dsTree.predict_proba(x_tr_M3)\n",
    "dsPredVa = dsTree.predict_proba(x_va_N3)[::,1]\n",
    "dsPredTe = dsTree.predict_proba(x_te_N3)[::,1]\n",
    "\n",
    "make_plot_perf_vs_threshold(y_va_N,dsPredVa)\n"
   ]
  },
  {
   "cell_type": "markdown",
   "metadata": {},
   "source": [
    "# Problem 1e: ROC Curve analysis"
   ]
  },
  {
   "cell_type": "markdown",
   "metadata": {
    "tags": []
   },
   "source": [
    "### Problem 1e(i): ROC on Validation set"
   ]
  },
  {
   "cell_type": "markdown",
   "metadata": {},
   "source": [
    "#### Validation LR3"
   ]
  },
  {
   "cell_type": "code",
   "execution_count": 23,
   "metadata": {},
   "outputs": [
    {
     "data": {
      "image/png": "[encoded data removed]",
      "text/plain": [
       "<Figure size 432x288 with 1 Axes>"
      ]
     },
     "metadata": {
      "needs_background": "light"
     },
     "output_type": "display_data"
    }
   ],
   "source": [
    "# TODO something like: fpr, tpr, thr = sklearn.metrics.roc_curve(...)\n",
    "fpr, tpr,thr = sklearn.metrics.roc_curve(y_va_N,pred_va3)\n",
    "auc = sklearn.metrics.roc_auc_score(y_va_N, pred_va3)\n",
    "# fpr,tpr,thr\n",
    "plt.ylim([0, 1]);\n",
    "plt.xlabel(\"FPR\");\n",
    "plt.ylabel(\"TPR\");\n",
    "plt.plot(fpr,tpr,label=\"Validation Set, auc=\"+str(auc));\n",
    "plt.plot(thr)\n",
    "plt.legend(loc=4)\n",
    "plt.\n",
    "plt.show()"
   ]
  },
  {
   "cell_type": "markdown",
   "metadata": {},
   "source": [
    "#### Validation LR2"
   ]
  },
  {
   "cell_type": "code",
   "execution_count": 24,
   "metadata": {},
   "outputs": [
    {
     "data": {
      "image/png": "[encoded data removed]",
      "text/plain": [
       "<Figure size 432x288 with 1 Axes>"
      ]
     },
     "metadata": {
      "needs_background": "light"
     },
     "output_type": "display_data"
    }
   ],
   "source": [
    "# TODO something like: fpr, tpr, thr = sklearn.metrics.roc_curve(...)\n",
    "fpr, tpr,thr = sklearn.metrics.roc_curve(y_va_N,pred_va2)\n",
    "auc = sklearn.metrics.roc_auc_score(y_va_N, pred_va2)\n",
    "# fpr,tpr,thr\n",
    "plt.ylim([0, 1]);\n",
    "plt.xlabel(\"FPR\");\n",
    "plt.ylabel(\"TPR\");\n",
    "plt.plot(fpr,tpr,label=\"Validation Set, auc=\"+str(auc));\n",
    "plt.plot(thr)\n",
    "plt.legend(loc=4)\n",
    "plt.show()"
   ]
  },
  {
   "cell_type": "markdown",
   "metadata": {},
   "source": [
    "### Problem 1e(ii): ROC on Test set"
   ]
  },
  {
   "cell_type": "markdown",
   "metadata": {},
   "source": [
    "#### Test LR3"
   ]
  },
  {
   "cell_type": "code",
   "execution_count": 33,
   "metadata": {},
   "outputs": [
    {
     "data": {
      "image/png": "[encoded data removed]",
      "text/plain": [
       "<Figure size 432x288 with 1 Axes>"
      ]
     },
     "metadata": {
      "needs_background": "light"
     },
     "output_type": "display_data"
    }
   ],
   "source": [
    "# TODO something like: fpr, tpr, thr = sklearn.metrics.roc_curve(...)\n",
    "yPredProba = bestModel3.predict_proba(x_te_N3)[::,1]\n",
    "fpr, tpr,thr= sklearn.metrics.roc_curve(y_te_N,  yPredProba)\n",
    "auc = sklearn.metrics.roc_auc_score(y_te_N, yPredProba)\n",
    "plt.ylim([0, 1]);\n",
    "plt.xlabel(\"FPR\");\n",
    "plt.ylabel(\"TPR\");\n",
    "plt.plot(fpr,tpr,label=\"Test Set, auc=\"+str(auc))\n",
    "plt.plot(thr)\n",
    "plt.legend(loc=4)\n",
    "plt.title(\"TEST LR3\")\n",
    "plt.show()"
   ]
  },
  {
   "cell_type": "markdown",
   "metadata": {
    "tags": []
   },
   "source": [
    "#### Test LR2"
   ]
  },
  {
   "cell_type": "code",
   "execution_count": 26,
   "metadata": {},
   "outputs": [
    {
     "data": {
      "image/png": "[encoded data removed]",
      "text/plain": [
       "<Figure size 432x288 with 1 Axes>"
      ]
     },
     "metadata": {
      "needs_background": "light"
     },
     "output_type": "display_data"
    }
   ],
   "source": [
    "yPredProba = bestModel2.predict_proba(x_te_N2)[::,1]\n",
    "fpr, tpr,thr= sklearn.metrics.roc_curve(y_te_N,  yPredProba)\n",
    "auc = sklearn.metrics.roc_auc_score(y_te_N, yPredProba)\n",
    "plt.ylim([0, 1]);\n",
    "plt.xlabel(\"FPR\");\n",
    "plt.ylabel(\"TPR\");\n",
    "plt.plot(fpr,tpr,label=\"Test Set, auc=\"+str(auc))\n",
    "plt.plot(thr)\n",
    "plt.legend(loc=4)\n",
    "plt.show()"
   ]
  },
  {
   "cell_type": "markdown",
   "metadata": {},
   "source": [
    "### DSTREE TEST SET ROC"
   ]
  },
  {
   "cell_type": "code",
   "execution_count": 27,
   "metadata": {},
   "outputs": [
    {
     "data": {
      "image/png": "[encoded data removed]",
      "text/plain": [
       "<Figure size 432x288 with 1 Axes>"
      ]
     },
     "metadata": {
      "needs_background": "light"
     },
     "output_type": "display_data"
    }
   ],
   "source": [
    "fpr, tpr,thr= sklearn.metrics.roc_curve(y_te_N,  dsPredTe)\n",
    "auc = sklearn.metrics.roc_auc_score(y_te_N, dsPredTe)\n",
    "plt.ylim([0, 1]);\n",
    "plt.xlabel(\"FPR\");\n",
    "plt.ylabel(\"TPR\");\n",
    "plt.plot(fpr,tpr,label=\"Test Set, auc=\"+str(auc))\n",
    "plt.plot(thr)\n",
    "plt.legend(loc=4)\n",
    "plt.show()"
   ]
  },
  {
   "cell_type": "markdown",
   "metadata": {},
   "source": [
    "### **1e(iii):** Short Answer: Compare the 3-feature LR to 2-feature LR models: does one dominate the other in terms of ROC performance?\n"
   ]
  },
  {
   "cell_type": "markdown",
   "metadata": {},
   "source": [
    "**Answer**: Based on the ROC curve we have previously created, it can be inferred that the 3-feature LR is dominate over the 2-feature LR"
   ]
  },
  {
   "cell_type": "markdown",
   "metadata": {},
   "source": [
    "### **1e(iv):** Short Answer: Compare the 3-feature DTree to 2-feature LR models: does one dominate the other in terms of ROC performance?\n"
   ]
  },
  {
   "cell_type": "markdown",
   "metadata": {},
   "source": [
    "**Answer**: Based on the ROC curve, it can be inferred that the 2-feature LR model is dominate over the DSTree \n"
   ]
  },
  {
   "cell_type": "markdown",
   "metadata": {},
   "source": [
    "## Problem 1f: Selecting a decision threshold"
   ]
  },
  {
   "cell_type": "markdown",
   "metadata": {},
   "source": [
    "### Problem 1f(i): Use default 0.5 threshold. Report perf. for 3-feature Logistic Regr."
   ]
  },
  {
   "cell_type": "code",
   "execution_count": 28,
   "metadata": {},
   "outputs": [
    {
     "name": "stdout",
     "output_type": "stream",
     "text": [
      "ON THE VALIDATION SET:\n",
      "Chosen best thr = 0.5000\n",
      "\n",
      "ON THE TEST SET:\n",
      "Predicted    0   1\n",
      "True              \n",
      "0          152   3\n",
      "1           15  10\n",
      "\n",
      "0.900 ACC\n",
      "0.400 TPR\n",
      "0.981 TNR\n",
      "0.769 PPV\n",
      "0.910 NPV\n",
      "None\n"
     ]
    }
   ],
   "source": [
    "best_thr = 0.5\n",
    "\n",
    "\n",
    "print(\"ON THE VALIDATION SET:\")\n",
    "print(\"Chosen best thr = %.4f\" % best_thr)\n",
    "print(\"\")\n",
    "print(\"ON THE TEST SET:\")\n",
    "print(calc_confusion_matrix_for_threshold(y_te_N,bestModel3.predict_proba(x_te_N3)[::,1],best_thr))\n",
    "print(\"\")\n",
    "print(print_perf_metrics_for_threshold(y_te_N,bestModel3.predict_proba(x_te_N3)[::,1],best_thr))"
   ]
  },
  {
   "cell_type": "markdown",
   "metadata": {},
   "source": [
    "### Problem 1f(ii): Pick threshold to maximize TPR s.t. PPV >= 0.98. Report perf. for 3-feature Logistic Regr."
   ]
  },
  {
   "cell_type": "code",
   "execution_count": 29,
   "metadata": {},
   "outputs": [
    {
     "name": "stdout",
     "output_type": "stream",
     "text": [
      "ON THE VALIDATION SET:\n",
      "Chosen best thr = 0.6307\n",
      "\n",
      "ON THE TEST SET:\n",
      "(0.8944444444439476, 0.23999999999904, 0.999999999999355, 0.9999999999833333, 0.8908045977006376)\n",
      "\n",
      "0.894 ACC\n",
      "0.240 TPR\n",
      "1.000 TNR\n",
      "1.000 PPV\n",
      "0.891 NPV\n",
      "None\n"
     ]
    }
   ],
   "source": [
    "# TODO thresh_grid, perf_grid = compute_perf_metrics_across_thresholds(...)\n",
    "\n",
    "tresh_grid,pref_grid = compute_perf_metrics_across_thresholds(y_te_N,bestModel3.predict_proba(x_te_N3)[:,1])\n",
    "\n",
    "# TODO Find threshold that makes TPR as large as possible, while satisfying PPV >= 0.98\n",
    "maxTPR=0\n",
    "for i in range(len(tresh_grid)):\n",
    " if(pref_grid['ppv'][i] <= 0.98):\n",
    "    continue\n",
    " if pref_grid['tpr'][i] >= maxTPR:\n",
    "  maxTPR = pref_grid['tpr'][i] \n",
    "  maxTPR_index = i\n",
    "\n",
    "\n",
    "print(\"ON THE VALIDATION SET:\")\n",
    "print(\"Chosen best thr = %.4f\" % tresh_grid[maxTPR_index]) # TODO\n",
    "print(\"\")\n",
    "print(\"ON THE TEST SET:\")\n",
    "# TODO: print(calc_confusion_matrix_for_threshold(...))\n",
    "print(calc_confusion_matrix_for_threshold(y_te_N,bestModel3.predict_proba(x_te_N3)[::,1],tresh_grid[maxPPV_index]))\n",
    "print(\"\")\n",
    "print(calc_perf_metrics_for_threshold(y_te_N,bestModel3.predict_proba(x_te_N3)[:,1],tresh_grid[maxTPR_index]))\n",
    "print(\"\")\n",
    "# TODO: print(print_perf_metrics_for_threshold(...))\n",
    "print(print_perf_metrics_for_threshold(y_te_N,bestModel3.predict_proba(x_te_N3)[:,1],tresh_grid[maxTPR_index]))"
   ]
  },
  {
   "cell_type": "markdown",
   "metadata": {},
   "source": [
    "### Problem 1f(iii): Pick threshold to maximize PPV s.t. TPR >= 0.98. Report perf. for 3-feature Logistic Regr."
   ]
  },
  {
   "cell_type": "code",
   "execution_count": 36,
   "metadata": {},
   "outputs": [
    {
     "name": "stdout",
     "output_type": "stream",
     "text": [
      "ON THE VALIDATION SET:\n",
      "Chosen best thr = 0.0549\n",
      "\n",
      "ON THE TEST SET:\n",
      "Predicted   0   1\n",
      "True             \n",
      "0          84  71\n",
      "1           0  25\n",
      "\n",
      "(0.6055555555552192, 0.9999999999960001, 0.5419354838706182, 0.2604166666663954, 0.9999999999988095)\n",
      "\n",
      "0.606 ACC\n",
      "1.000 TPR\n",
      "0.542 TNR\n",
      "0.260 PPV\n",
      "1.000 NPV\n",
      "None\n"
     ]
    }
   ],
   "source": [
    "# TODO thresh_grid, perf_grid = compute_perf_metrics_across_thresholds(...)\n",
    "\n",
    "tresh_grid,pref_grid = compute_perf_metrics_across_thresholds(y_te_N,bestModel3.predict_proba(x_te_N3)[::,1])\n",
    "\n",
    "# TODO Find threshold that makes TPR as large as possible, while satisfying PPV >= 0.98\n",
    "maxPPV=0\n",
    "for i in range(len(tresh_grid)):\n",
    " if(pref_grid['tpr'][i] <= 0.98):\n",
    "    continue\n",
    " if pref_grid['ppv'][i] >= maxPPV:\n",
    "  maxPPV = pref_grid['ppv'][i] \n",
    "  maxPPV_index = i\n",
    "\n",
    "\n",
    "print(\"ON THE VALIDATION SET:\")\n",
    "print(\"Chosen best thr = %.4f\" % tresh_grid[maxPPV_index]) # TODO\n",
    "print(\"\")\n",
    "print(\"ON THE TEST SET:\")\n",
    "# TODO: print(calc_confusion_matrix_for_threshold(...))\n",
    "print(calc_confusion_matrix_for_threshold(y_te_N,bestModel3.predict_proba(x_te_N3)[::,1],tresh_grid[maxPPV_index]))\n",
    "print(\"\")\n",
    "print(calc_perf_metrics_for_threshold(y_te_N,bestModel3.predict_proba(x_te_N3)[::,1],tresh_grid[maxPPV_index]))\n",
    "print(\"\")\n",
    "# TODO: print(print_perf_metrics_for_threshold(...))\n",
    "print(print_perf_metrics_for_threshold(y_te_N,bestModel3.predict_proba(x_te_N3)[::,1],tresh_grid[maxPPV_index]))"
   ]
  },
  {
   "cell_type": "markdown",
   "metadata": {},
   "source": [
    "### Problem 1f(iv): Compare the confusion matrices between 1f(i) - 1f(iii). Which thresholding strategy best meets our preferences from 1a: avoid life-threatening mistakes at all costs, while also eliminating unnecessary biopsies?"
   ]
  },
  {
   "cell_type": "markdown",
   "metadata": {},
   "source": [
    "**Answer**: TODO"
   ]
  },
  {
   "cell_type": "markdown",
   "metadata": {},
   "source": [
    "### Problem 1f(v): How many subjects in the test set are saved from unnecessary biopsies using your selected thresholding strategy? What fraction of current biopsies would be avoided if this classifier was adopted by the hospital?"
   ]
  },
  {
   "cell_type": "markdown",
   "metadata": {},
   "source": [
    "**Answer**: TODO"
   ]
  },
  {
   "cell_type": "code",
   "execution_count": null,
   "metadata": {
    "collapsed": true,
    "jupyter": {
     "outputs_hidden": true
    }
   },
   "outputs": [],
   "source": []
  },
  {
   "cell_type": "code",
   "execution_count": null,
   "metadata": {
    "collapsed": true,
    "jupyter": {
     "outputs_hidden": true
    }
   },
   "outputs": [],
   "source": []
  },
  {
   "cell_type": "markdown",
   "metadata": {},
   "source": [
    "# Problem 2: Concept Questions"
   ]
  },
  {
   "cell_type": "markdown",
   "metadata": {},
   "source": [
    "## Problem 2a: Optimization"
   ]
  },
  {
   "cell_type": "markdown",
   "metadata": {},
   "source": [
    "### 2a(i): Where is the ideal minimum of the function $f(x)$?\n"
   ]
  },
  {
   "cell_type": "markdown",
   "metadata": {},
   "source": [
    "### 2a(ii): Does this gradient descent procedure converge? Explain your answer.M"
   ]
  },
  {
   "cell_type": "markdown",
   "metadata": {},
   "source": [
    "\n",
    "### 2a(iii): Can you propose a step length with which the optimization procedure converges?"
   ]
  },
  {
   "cell_type": "markdown",
   "metadata": {},
   "source": [
    "## Problem 2b: Understanding Logistic Regression"
   ]
  },
  {
   "cell_type": "markdown",
   "metadata": {},
   "source": [
    "### 2b(i): Explain why the illustration has problems (1-3 sentences)."
   ]
  },
  {
   "cell_type": "code",
   "execution_count": null,
   "metadata": {
    "tags": []
   },
   "outputs": [],
   "source": []
  }
 ],
 "metadata": {
  "kernelspec": {
   "display_name": "Python 3 (ipykernel)",
   "language": "python",
   "name": "python3"
  },
  "language_info": {
   "codemirror_mode": {
    "name": "ipython",
    "version": 3
   },
   "file_extension": ".py",
   "mimetype": "text/x-python",
   "name": "python",
   "nbconvert_exporter": "python",
   "pygments_lexer": "ipython3",
   "version": "3.9.12"
  }
 },
 "nbformat": 4,
 "nbformat_minor": 4
}
