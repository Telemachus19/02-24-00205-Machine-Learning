{
  "cells": [
    {
      "cell_type": "markdown",
      "metadata": {
        "id": "mL_v9uqJkqXW"
      },
      "source": [
        "# day06: Gradient Descent for Linear Regression\n",
        "\n",
        "# Objectives\n",
        "\n",
        "* Learn how to fit weight parameters of Linear Regression to a simple dataset via gradient descent\n",
        "* Understand impact of step size\n",
        "* Understand impact of initialization\n",
        "\n",
        "\n",
        "# Outline\n",
        "* [Part 1: Loss and Gradient for 1-dim. Linear Regression](#part1)\n",
        "* [Part 2: Gradient Descent Algorithm in a few lines of Python](#part2)\n",
        "* [Part 3: Debugging with Trace Plots](#part3)\n",
        "* [Part 4: Selecting the step size](#part4)\n",
        "* [Part 5: Selecting the initialization](#part5)\n",
        "* [Part 6: Using SciPy's built-in routines](#part6)\n",
        "\n",
        "# Takeaways\n",
        "\n",
        "\n",
        "* Gradient descent is a simple algorithm that can be implemented in a few lines of Python\n",
        "* * Practical issues include selecting step size and initialization\n",
        "* Step size matters a lot\n",
        "* * Need to select carefully for each problem\n",
        "\n",
        "* Initialization of the parameters can matter too!\n",
        "\n",
        "* scipy offers some useful tools for gradient-based optimization\n",
        "* * scipy's toolbox cannot do scalable \"stochastic\" methods (requires a modest size dataset, not too big)\n",
        "* * \"L-BFGS-B\" method is highly recommended if you have your loss and gradient functions available\n"
      ]
    },
    {
      "cell_type": "code",
      "execution_count": 22,
      "metadata": {
        "id": "xASx4B3ckqXZ"
      },
      "outputs": [],
      "source": [
        "import numpy as np"
      ]
    },
    {
      "cell_type": "code",
      "execution_count": 23,
      "metadata": {
        "id": "3yGtl7KfkqXa"
      },
      "outputs": [],
      "source": [
        "# import plotting libraries\n",
        "import matplotlib\n",
        "import matplotlib.pyplot as plt\n",
        "\n",
        "%matplotlib inline\n",
        "plt.style.use('seaborn') # pretty matplotlib plots\n",
        "\n",
        "import seaborn as sns\n",
        "sns.set('notebook', font_scale=1.25, style='whitegrid')"
      ]
    },
    {
      "cell_type": "markdown",
      "metadata": {
        "id": "Mwygv-J3kqXa"
      },
      "source": [
        "# Create simple dataset:   y = 1.234 * x + noise\n",
        "\n",
        "We will *intentionally* create a toy dataset where we know that a good solution has slope near 1.234.\n",
        "\n",
        "Naturally, the best slope for the finite dataset of N=100 examples we create won't be exactly 1.234 (because of the noise added plus the fact that our dataset size is limited)."
      ]
    },
    {
      "cell_type": "code",
      "execution_count": 24,
      "metadata": {
        "id": "IQxgpnwdkqXb"
      },
      "outputs": [],
      "source": [
        "def create_dataset(N=100, slope=1.234, noise_stddev=0.1, random_state=0):\n",
        "    random_state = np.random.RandomState(int(random_state))\n",
        "\n",
        "    # input features\n",
        "    x_N = np.linspace(-2, 2, N)\n",
        "    \n",
        "    # output features\n",
        "    y_N = slope * x_N + random_state.randn(N) * noise_stddev\n",
        "    \n",
        "    return x_N, y_N"
      ]
    },
    {
      "cell_type": "code",
      "execution_count": 25,
      "metadata": {
        "id": "oYOc8gE9kqXb"
      },
      "outputs": [],
      "source": [
        "x_N, y_N = create_dataset(N=50, noise_stddev=0.3)"
      ]
    },
    {
      "cell_type": "code",
      "execution_count": 26,
      "metadata": {
        "id": "JLTaBNVCkqXc",
        "colab": {
          "base_uri": "https://localhost:8080/",
          "height": 349
        },
        "outputId": "f0870c7a-cb46-4a53-c369-4a8f17fbc77b"
      },
      "outputs": [
        {
          "output_type": "display_data",
          "data": {
            "text/plain": [
              "<Figure size 360x360 with 1 Axes>"
            ],
            "image/png": "[encoded data removed]"
          },
          "metadata": {}
        }
      ],
      "source": [
        "fig, ax = plt.subplots(nrows=1, ncols=1, figsize=(5,5))\n",
        "plt.plot(x_N, y_N, 'k.');\n",
        "plt.xlabel('x');\n",
        "plt.ylabel('y');"
      ]
    },
    {
      "cell_type": "markdown",
      "metadata": {
        "id": "SBXwd7NokqXc"
      },
      "source": [
        "# Part 1: Gradient Descent for 1-dim. Linear Regression"
      ]
    },
    {
      "cell_type": "markdown",
      "metadata": {
        "id": "SxkaF_UqkqXc"
      },
      "source": [
        "## Define model\n",
        "\n",
        "Consider the *simplest* linear regression model. A single weight parameter $w \\in \\mathbb{R}$ representing the slope of the prediction line. No bias/intercept.\n",
        "\n",
        "To make predictions, we just compute the weight multiplied by the input feature\n",
        "$$\n",
        "\\hat{y}(x) = w \\cdot x\n",
        "$$"
      ]
    },
    {
      "cell_type": "markdown",
      "metadata": {
        "id": "kEKBrfCNkqXd"
      },
      "source": [
        "## Define loss function"
      ]
    },
    {
      "cell_type": "markdown",
      "metadata": {
        "id": "7pyItct6kqXd"
      },
      "source": [
        "We want to minimize the total *squared error* across all N observed data examples (input features $x_n$, output responses $y_n$)"
      ]
    },
    {
      "cell_type": "markdown",
      "metadata": {
        "id": "rDx6zWbZkqXd"
      },
      "source": [
        "\\begin{align}\n",
        "    \\min_{w \\in \\mathbb{R}} ~~ &\\ell(w)\n",
        "    \\\\\n",
        "    \\text{calc_loss}(w) = \\ell(w) &= \\sum_{n=1}^N (y_n - w x_n)^2\n",
        "\\end{align}"
      ]
    },
    {
      "cell_type": "markdown",
      "metadata": {
        "id": "dmfDfD_akqXe"
      },
      "source": [
        "### Exercise 1A: Complete the code below\n",
        "\n",
        "You should make it match the math expression above."
      ]
    },
    {
      "cell_type": "code",
      "execution_count": 27,
      "metadata": {
        "id": "uWwlsOI1kqXe"
      },
      "outputs": [],
      "source": [
        "def calc_loss(w):\n",
        "    ''' Compute loss for slope-only least-squares linear regression\n",
        "    \n",
        "    Args\n",
        "    ----\n",
        "    w : float\n",
        "        Value of slope parameter\n",
        "\n",
        "    Returns\n",
        "    -------\n",
        "    loss : float\n",
        "        Sum of squared error loss at provided w value\n",
        "    '''\n",
        "    yhat_N = x_N * w\n",
        "    sum_squared_error = np.sum((y_N - yhat_N)**2)  # todo compute the sum of squared error between y and yhat\n",
        "    return sum_squared_error"
      ]
    },
    {
      "cell_type": "markdown",
      "metadata": {
        "id": "pMO7ShB0kqXe"
      },
      "source": [
        "# Define the gradient function\n",
        "\n",
        "\\begin{align}\n",
        "\\text{calc_grad}(w) = \\ell'(w) &= \\frac{\\partial}{\\partial w} [ \\sum_{n=1}^N (y_n - w x_n)^2] \n",
        "\\\\\n",
        "&= \\sum_{n=1}^N 2 (y_n - w x_n) (-x_n)\n",
        "\\\\\n",
        "&= 2 \\sum_{n=1}^N (w x_n - y_n) (x_n)\n",
        "\\\\\n",
        "&= 2  w \\left( \\sum_{n=1}^N x_n^2 \\right) - 2 \\sum_{n=1}^N y_n x_n\n",
        "\\end{align}"
      ]
    },
    {
      "cell_type": "markdown",
      "metadata": {
        "id": "rR12f9EmkqXf"
      },
      "source": [
        "Below, we've implemented the gradient calculation in code for you"
      ]
    },
    {
      "cell_type": "code",
      "execution_count": 28,
      "metadata": {
        "id": "fuBmdzqFkqXf"
      },
      "outputs": [],
      "source": [
        "def calc_grad(w):\n",
        "    ''' Compute gradient for slope-only least-squares linear regression\n",
        "    \n",
        "    Args\n",
        "    ----\n",
        "    w : float\n",
        "        Value of slope parameter\n",
        "\n",
        "    Returns\n",
        "    -------\n",
        "    g : float\n",
        "        Value of derivative of loss function at provided w value\n",
        "    '''\n",
        "    g = 2.0 * w * np.sum(np.square(x_N)) - 2.0 * np.sum(x_N * y_N)\n",
        "    return g"
      ]
    },
    {
      "cell_type": "markdown",
      "metadata": {
        "id": "yU2XWTiJkqXf"
      },
      "source": [
        "## Plot loss evaluated at each w from -3 to 8\n",
        "\n",
        "We should see a \"bowl\" shape with one *global* minima, because our optimization problem is \"convex\""
      ]
    },
    {
      "cell_type": "code",
      "execution_count": 29,
      "metadata": {
        "id": "yvCQEYtCkqXg"
      },
      "outputs": [],
      "source": [
        "w_grid = np.linspace(-3, 8, 300) # create array of 300 values between -3 and 8"
      ]
    },
    {
      "cell_type": "code",
      "execution_count": 30,
      "metadata": {
        "id": "4M_wWvpNkqXg",
        "colab": {
          "base_uri": "https://localhost:8080/",
          "height": 376
        },
        "outputId": "fd6d3be4-e52a-40f4-9e7f-855f7e7ddf7c"
      },
      "outputs": [
        {
          "output_type": "display_data",
          "data": {
            "text/plain": [
              "<Figure size 576x396 with 1 Axes>"
            ],
            "image/png": "[encoded data removed]"
          },
          "metadata": {}
        }
      ],
      "source": [
        "loss_grid = np.asarray([calc_loss(w) for w in w_grid])\n",
        "plt.plot(w_grid, loss_grid, 'b.-');\n",
        "plt.xlabel('w');\n",
        "plt.ylabel('loss(w)');"
      ]
    },
    {
      "cell_type": "markdown",
      "metadata": {
        "id": "LwmGuUXnkqXg"
      },
      "source": [
        "### Discussion 1b: Visually, at what value of $w$ does the loss function have a minima? Is it near where you would expect (hint: look above for the \"true\" slope value used to generate the data)\n",
        "#### My answer : the loss function will have the minima when $w$ has value between 0 and 2 and i expect that the value is 1"
      ]
    },
    {
      "cell_type": "markdown",
      "metadata": {
        "id": "pqQTcRHXkqXg"
      },
      "source": [
        "### Exercise 1c: Write NumPy code to identify which entry in the w_grid array corresponds to the lowest entry in the loss_grid array\n",
        "\n",
        "Hint: use np.argmin"
      ]
    },
    {
      "cell_type": "code",
      "execution_count": 31,
      "metadata": {
        "id": "e9rrfqJWkqXh",
        "colab": {
          "base_uri": "https://localhost:8080/"
        },
        "outputId": "c4d2d46b-8d61-427f-b745-1224d9369e4d"
      },
      "outputs": [
        {
          "output_type": "stream",
          "name": "stdout",
          "text": [
            "the index of the lowest entery in loss_grid is : 112\n",
            "the corresponds element is 1.120401337792643\n"
          ]
        }
      ],
      "source": [
        "# TODO write code here\n",
        "lowest = np.argmin(loss_grid)\n",
        "print(f'the index of the lowest entery in loss_grid is : {lowest}')\n",
        "print(f'the corresponds element is {w_grid[lowest]}')"
      ]
    },
    {
      "cell_type": "markdown",
      "metadata": {
        "id": "VON2bbTpkqXh"
      },
      "source": [
        "## Sanity check: plot gradient evaluated at each w from -3 to 8"
      ]
    },
    {
      "cell_type": "code",
      "execution_count": 32,
      "metadata": {
        "id": "t3m2DZHtkqXh",
        "colab": {
          "base_uri": "https://localhost:8080/",
          "height": 376
        },
        "outputId": "a1b787f1-87a6-4ed3-f94c-8115b6c5ad0f"
      },
      "outputs": [
        {
          "output_type": "display_data",
          "data": {
            "text/plain": [
              "<Figure size 576x396 with 1 Axes>"
            ],
            "image/png": "[encoded data removed]"
          },
          "metadata": {}
        }
      ],
      "source": [
        "grad_grid = np.asarray([calc_grad(w) for w in w_grid])\n",
        "plt.plot(w_grid, grad_grid, 'b.-');\n",
        "plt.xlabel('w');\n",
        "plt.ylabel('grad(w)');"
      ]
    },
    {
      "cell_type": "markdown",
      "metadata": {
        "id": "NWylGAJ4kqXi"
      },
      "source": [
        "### Discussion 1d: Visually, at what value of $w$ does the gradient function cross zero? Is it the same place as the location of the minimum in the loss above?\n",
        "\n",
        "#### My answer : at 1.1204 , yes it the nearly to my expected value above"
      ]
    },
    {
      "cell_type": "markdown",
      "metadata": {
        "id": "xR5OzeXQkqXi"
      },
      "source": [
        "TODO interpret the graph above and write your answer here, then discuss with your group"
      ]
    },
    {
      "cell_type": "markdown",
      "metadata": {
        "id": "xd9ntkimkqXi"
      },
      "source": [
        "### Exercise 1d: Numerically, at which value of w does grad_grid cross zero?"
      ]
    },
    {
      "cell_type": "markdown",
      "metadata": {
        "id": "AEtIuCSFkqXi"
      },
      "source": [
        "We might try to estimate numerically where the gradient crosses zero.\n",
        "\n",
        "We could do this in a few steps:\n",
        "\n",
        "1) Compute the distance from each gradient in `grad_grid` to 0.0 (we could use just absolute distance)\n",
        "\n",
        "2) Find the index of `grad_grid` with smallest distance (using `np.argmin`)\n",
        "\n",
        "3) Plug that index into `w_grid` to get the $w$ value corresponding to that zero-crossing"
      ]
    },
    {
      "cell_type": "code",
      "execution_count": 33,
      "metadata": {
        "id": "RfiClFJgkqXi",
        "colab": {
          "base_uri": "https://localhost:8080/"
        },
        "outputId": "ca4caf7e-1851-4f10-869a-ab4f82190fdf"
      },
      "outputs": [
        {
          "output_type": "stream",
          "name": "stdout",
          "text": [
            "Zero crossing occurs at w = 1.1204\n"
          ]
        }
      ],
      "source": [
        "dist_from_zero_G = np.abs(grad_grid - 0.0)\n",
        "\n",
        "zero_cross_index = np.argmin(dist_from_zero_G) # TODO fix me for step 2 above\n",
        "\n",
        "print(\"Zero crossing occurs at w = %.4f\" % w_grid[zero_cross_index]) # TODO fix me for step 3 above"
      ]
    },
    {
      "cell_type": "markdown",
      "metadata": {
        "id": "QsTR5rkukqXj"
      },
      "source": [
        "## Part 2: Gradient Descent (GD) as an algorithm in Python\n",
        "\n",
        "\n",
        "### Define minimize_via_grad_descent algorithm\n",
        "\n",
        "Can you understand what each step of this algorithm does?"
      ]
    },
    {
      "cell_type": "code",
      "execution_count": 34,
      "metadata": {
        "id": "3u0XJgvSkqXj"
      },
      "outputs": [],
      "source": [
        "def minimize_via_grad_descent(calc_loss, calc_grad, init_w=0.0, step_size=0.001, max_iters=100):\n",
        "    ''' Perform minimization of provided loss function via gradient descent\n",
        "    \n",
        "    Args\n",
        "    ----\n",
        "    calc_loss : function\n",
        "    calc_grad : function\n",
        "    init_w : float\n",
        "    step_size : float\n",
        "    max_iters : positive int\n",
        "    \n",
        "    Return\n",
        "    ----\n",
        "    wopt: float\n",
        "        array of optimized weights that approximately gives the least error\n",
        "    info_dict : dict\n",
        "        Contains information about the optimization procedure useful for debugging\n",
        "        Entries include:\n",
        "        * trace_loss_list : list of loss values\n",
        "        * trace_grad_list : list of gradient values\n",
        "    '''\n",
        "    w = 1.0 * init_w \n",
        "    grad = calc_grad(w)\n",
        "\n",
        "    # Create some lists to track progress over time (for debugging)\n",
        "    trace_loss_list = []\n",
        "    trace_w_list = []\n",
        "    trace_grad_list = []\n",
        "\n",
        "    for iter_id in range(max_iters):\n",
        "        if iter_id > 0:\n",
        "            w = w - step_size * grad\n",
        "        \n",
        "        loss = calc_loss(w)\n",
        "        grad = calc_grad(w)    \n",
        "\n",
        "        print(\"  iter %5d/%d | w  % 13.5f | loss % 13.4f | grad % 13.4f\" % (\n",
        "            iter_id, max_iters, w, loss, grad))\n",
        "    \n",
        "        trace_loss_list.append(loss)\n",
        "        trace_w_list.append(w)\n",
        "        trace_grad_list.append(grad)\n",
        "    \n",
        "    wopt = w\n",
        "    info_dict = dict(\n",
        "        trace_loss_list=trace_loss_list,\n",
        "        trace_w_list=trace_w_list, \n",
        "        trace_grad_list=trace_grad_list)\n",
        "    \n",
        "    return wopt, info_dict"
      ]
    },
    {
      "cell_type": "markdown",
      "metadata": {
        "id": "iNSusLFAkqXj"
      },
      "source": [
        "### Discussion 2a: Which line of the above function does the *parameter update* happen?\n",
        "\n",
        "Remember, in math, the parameter update of gradient descent is this:\n",
        "$$\n",
        "w \\gets w - \\alpha \\nabla_w \\ell(w)\n",
        "$$\n",
        "\n",
        "where $\\alpha > 0$ is the step size.\n",
        "\n",
        "In words, this math says *move* the parameter $w$ from its current value a *small step* in the \"downhill\" direction (indicated by gradient).\n",
        "\n",
        "#### My answer : the line after the if condition \n",
        "w = w - step_size * grad"
      ]
    },
    {
      "cell_type": "markdown",
      "metadata": {
        "id": "8B_Yo3cPkqXk"
      },
      "source": [
        "TODO write down here which line above *you* think it is, then discuss with your group"
      ]
    },
    {
      "cell_type": "code",
      "execution_count": null,
      "metadata": {
        "id": "sfVi_a-9kqXk"
      },
      "outputs": [],
      "source": [
        "#### w = w - step_size * grad"
      ]
    },
    {
      "cell_type": "markdown",
      "metadata": {
        "id": "s9OB5ntykqXk"
      },
      "source": [
        "### Try it! Run GD with step_size = 0.001\n",
        "\n",
        "Running the cell below will have the following effects:\n",
        "\n",
        "1) one line will be printed for every iteration, indicating the current w value and its associated loss\n",
        "\n",
        "2) the \"optimal\" value of w will be stored in the variable named `wopt` returned by this function\n",
        "\n",
        "3) a dictionary of information useful for debugging will be stored in the `info_dict` returned by this function"
      ]
    },
    {
      "cell_type": "code",
      "execution_count": 35,
      "metadata": {
        "id": "K9aCkvIvkqXk",
        "colab": {
          "base_uri": "https://localhost:8080/"
        },
        "outputId": "1d90082c-9782-4b1c-d4f3-e37877c30c7a"
      },
      "outputs": [
        {
          "output_type": "stream",
          "name": "stdout",
          "text": [
            "  iter     0/100 | w        0.00000 | loss       93.3197 | grad     -156.5566\n",
            "  iter     1/100 | w        0.15656 | loss       70.5104 | grad     -134.8304\n",
            "  iter     2/100 | w        0.29139 | loss       53.5926 | grad     -116.1192\n",
            "  iter     3/100 | w        0.40751 | loss       41.0446 | grad     -100.0047\n",
            "  iter     4/100 | w        0.50751 | loss       31.7376 | grad      -86.1265\n",
            "  iter     5/100 | w        0.59364 | loss       24.8345 | grad      -74.1743\n",
            "  iter     6/100 | w        0.66781 | loss       19.7144 | grad      -63.8807\n",
            "  iter     7/100 | w        0.73169 | loss       15.9168 | grad      -55.0156\n",
            "  iter     8/100 | w        0.78671 | loss       13.1001 | grad      -47.3808\n",
            "  iter     9/100 | w        0.83409 | loss       11.0110 | grad      -40.8055\n",
            "  iter    10/100 | w        0.87489 | loss        9.4614 | grad      -35.1427\n",
            "  iter    11/100 | w        0.91004 | loss        8.3121 | grad      -30.2657\n",
            "  iter    12/100 | w        0.94030 | loss        7.4597 | grad      -26.0656\n",
            "  iter    13/100 | w        0.96637 | loss        6.8274 | grad      -22.4483\n",
            "  iter    14/100 | w        0.98882 | loss        6.3584 | grad      -19.3331\n",
            "  iter    15/100 | w        1.00815 | loss        6.0106 | grad      -16.6501\n",
            "  iter    16/100 | w        1.02480 | loss        5.7526 | grad      -14.3395\n",
            "  iter    17/100 | w        1.03914 | loss        5.5612 | grad      -12.3495\n",
            "  iter    18/100 | w        1.05149 | loss        5.4193 | grad      -10.6357\n",
            "  iter    19/100 | w        1.06212 | loss        5.3140 | grad       -9.1597\n",
            "  iter    20/100 | w        1.07128 | loss        5.2360 | grad       -7.8886\n",
            "  iter    21/100 | w        1.07917 | loss        5.1781 | grad       -6.7938\n",
            "  iter    22/100 | w        1.08597 | loss        5.1351 | grad       -5.8510\n",
            "  iter    23/100 | w        1.09182 | loss        5.1032 | grad       -5.0390\n",
            "  iter    24/100 | w        1.09686 | loss        5.0796 | grad       -4.3397\n",
            "  iter    25/100 | w        1.10120 | loss        5.0621 | grad       -3.7375\n",
            "  iter    26/100 | w        1.10493 | loss        5.0491 | grad       -3.2188\n",
            "  iter    27/100 | w        1.10815 | loss        5.0394 | grad       -2.7721\n",
            "  iter    28/100 | w        1.11092 | loss        5.0323 | grad       -2.3874\n",
            "  iter    29/100 | w        1.11331 | loss        5.0270 | grad       -2.0561\n",
            "  iter    30/100 | w        1.11537 | loss        5.0231 | grad       -1.7708\n",
            "  iter    31/100 | w        1.11714 | loss        5.0201 | grad       -1.5250\n",
            "  iter    32/100 | w        1.11866 | loss        5.0180 | grad       -1.3134\n",
            "  iter    33/100 | w        1.11998 | loss        5.0164 | grad       -1.1311\n",
            "  iter    34/100 | w        1.12111 | loss        5.0152 | grad       -0.9742\n",
            "  iter    35/100 | w        1.12208 | loss        5.0143 | grad       -0.8390\n",
            "  iter    36/100 | w        1.12292 | loss        5.0136 | grad       -0.7225\n",
            "  iter    37/100 | w        1.12364 | loss        5.0132 | grad       -0.6223\n",
            "  iter    38/100 | w        1.12427 | loss        5.0128 | grad       -0.5359\n",
            "  iter    39/100 | w        1.12480 | loss        5.0125 | grad       -0.4615\n",
            "  iter    40/100 | w        1.12526 | loss        5.0123 | grad       -0.3975\n",
            "  iter    41/100 | w        1.12566 | loss        5.0122 | grad       -0.3423\n",
            "  iter    42/100 | w        1.12600 | loss        5.0121 | grad       -0.2948\n",
            "  iter    43/100 | w        1.12630 | loss        5.0120 | grad       -0.2539\n",
            "  iter    44/100 | w        1.12655 | loss        5.0119 | grad       -0.2187\n",
            "  iter    45/100 | w        1.12677 | loss        5.0119 | grad       -0.1883\n",
            "  iter    46/100 | w        1.12696 | loss        5.0119 | grad       -0.1622\n",
            "  iter    47/100 | w        1.12712 | loss        5.0118 | grad       -0.1397\n",
            "  iter    48/100 | w        1.12726 | loss        5.0118 | grad       -0.1203\n",
            "  iter    49/100 | w        1.12738 | loss        5.0118 | grad       -0.1036\n",
            "  iter    50/100 | w        1.12749 | loss        5.0118 | grad       -0.0892\n",
            "  iter    51/100 | w        1.12757 | loss        5.0118 | grad       -0.0768\n",
            "  iter    52/100 | w        1.12765 | loss        5.0118 | grad       -0.0662\n",
            "  iter    53/100 | w        1.12772 | loss        5.0118 | grad       -0.0570\n",
            "  iter    54/100 | w        1.12777 | loss        5.0118 | grad       -0.0491\n",
            "  iter    55/100 | w        1.12782 | loss        5.0118 | grad       -0.0423\n",
            "  iter    56/100 | w        1.12787 | loss        5.0118 | grad       -0.0364\n",
            "  iter    57/100 | w        1.12790 | loss        5.0118 | grad       -0.0314\n",
            "  iter    58/100 | w        1.12793 | loss        5.0118 | grad       -0.0270\n",
            "  iter    59/100 | w        1.12796 | loss        5.0118 | grad       -0.0233\n",
            "  iter    60/100 | w        1.12798 | loss        5.0118 | grad       -0.0200\n",
            "  iter    61/100 | w        1.12800 | loss        5.0118 | grad       -0.0172\n",
            "  iter    62/100 | w        1.12802 | loss        5.0118 | grad       -0.0149\n",
            "  iter    63/100 | w        1.12804 | loss        5.0118 | grad       -0.0128\n",
            "  iter    64/100 | w        1.12805 | loss        5.0118 | grad       -0.0110\n",
            "  iter    65/100 | w        1.12806 | loss        5.0118 | grad       -0.0095\n",
            "  iter    66/100 | w        1.12807 | loss        5.0118 | grad       -0.0082\n",
            "  iter    67/100 | w        1.12808 | loss        5.0118 | grad       -0.0070\n",
            "  iter    68/100 | w        1.12808 | loss        5.0118 | grad       -0.0061\n",
            "  iter    69/100 | w        1.12809 | loss        5.0118 | grad       -0.0052\n",
            "  iter    70/100 | w        1.12810 | loss        5.0118 | grad       -0.0045\n",
            "  iter    71/100 | w        1.12810 | loss        5.0118 | grad       -0.0039\n",
            "  iter    72/100 | w        1.12810 | loss        5.0118 | grad       -0.0033\n",
            "  iter    73/100 | w        1.12811 | loss        5.0118 | grad       -0.0029\n",
            "  iter    74/100 | w        1.12811 | loss        5.0118 | grad       -0.0025\n",
            "  iter    75/100 | w        1.12811 | loss        5.0118 | grad       -0.0021\n",
            "  iter    76/100 | w        1.12812 | loss        5.0118 | grad       -0.0018\n",
            "  iter    77/100 | w        1.12812 | loss        5.0118 | grad       -0.0016\n",
            "  iter    78/100 | w        1.12812 | loss        5.0118 | grad       -0.0014\n",
            "  iter    79/100 | w        1.12812 | loss        5.0118 | grad       -0.0012\n",
            "  iter    80/100 | w        1.12812 | loss        5.0118 | grad       -0.0010\n",
            "  iter    81/100 | w        1.12812 | loss        5.0118 | grad       -0.0009\n",
            "  iter    82/100 | w        1.12812 | loss        5.0118 | grad       -0.0007\n",
            "  iter    83/100 | w        1.12812 | loss        5.0118 | grad       -0.0006\n",
            "  iter    84/100 | w        1.12812 | loss        5.0118 | grad       -0.0006\n",
            "  iter    85/100 | w        1.12812 | loss        5.0118 | grad       -0.0005\n",
            "  iter    86/100 | w        1.12813 | loss        5.0118 | grad       -0.0004\n",
            "  iter    87/100 | w        1.12813 | loss        5.0118 | grad       -0.0004\n",
            "  iter    88/100 | w        1.12813 | loss        5.0118 | grad       -0.0003\n",
            "  iter    89/100 | w        1.12813 | loss        5.0118 | grad       -0.0003\n",
            "  iter    90/100 | w        1.12813 | loss        5.0118 | grad       -0.0002\n",
            "  iter    91/100 | w        1.12813 | loss        5.0118 | grad       -0.0002\n",
            "  iter    92/100 | w        1.12813 | loss        5.0118 | grad       -0.0002\n",
            "  iter    93/100 | w        1.12813 | loss        5.0118 | grad       -0.0001\n",
            "  iter    94/100 | w        1.12813 | loss        5.0118 | grad       -0.0001\n",
            "  iter    95/100 | w        1.12813 | loss        5.0118 | grad       -0.0001\n",
            "  iter    96/100 | w        1.12813 | loss        5.0118 | grad       -0.0001\n",
            "  iter    97/100 | w        1.12813 | loss        5.0118 | grad       -0.0001\n",
            "  iter    98/100 | w        1.12813 | loss        5.0118 | grad       -0.0001\n",
            "  iter    99/100 | w        1.12813 | loss        5.0118 | grad       -0.0001\n"
          ]
        }
      ],
      "source": [
        "wopt, info_dict = minimize_via_grad_descent(calc_loss, calc_grad, step_size=0.001);"
      ]
    },
    {
      "cell_type": "markdown",
      "metadata": {
        "id": "sQNNW3HmkqXl"
      },
      "source": [
        "### Discussion 2b: Does it appear from the *loss* values in trace above that the GD procedure converged?\n",
        "\n",
        "#### My answer : yes it converge , bec by comparing the loss at first iteration and last iteration we see that it decrease"
      ]
    },
    {
      "cell_type": "markdown",
      "metadata": {
        "id": "k3NFrLVAkqXl"
      },
      "source": [
        "### Discussion 2c: Does it appear from the *parameter* values in trace above that the GD procedure converged?\n",
        "\n",
        "#### My answer :yes it converge bec by comparing the loss at first iteration and last iteration we see that it decrease,  yes but the number of iterations is too high if we decrease little bit we will have the same result and if we increase learing rate little bit i think it will not affect the convergene of GD."
      ]
    },
    {
      "cell_type": "markdown",
      "metadata": {
        "id": "MYQXnU6bkqXl"
      },
      "source": [
        "### Exercise 2d: What exactly is the gradient of the returned \"optimal\" value of w?\n",
        "\n",
        "Use your `calc_grad` function to check the result. What is the gradient of the returned `wopt`?\n",
        "\n",
        "Does this look totally converged? Can you find a $w$ value that would be even better?"
      ]
    },
    {
      "cell_type": "code",
      "execution_count": 36,
      "metadata": {
        "id": "YhLiu5_mkqXm",
        "colab": {
          "base_uri": "https://localhost:8080/"
        },
        "outputId": "584308df-f50e-41ad-b02f-b81dd10906f1"
      },
      "outputs": [
        {
          "output_type": "stream",
          "name": "stdout",
          "text": [
            "the result is : -5.9046213692681704e-05\n"
          ]
        }
      ],
      "source": [
        "# TODO call calc_grad on the return value from above\n",
        "result = calc_grad(wopt)\n",
        "print(f'the result is : {result}')"
      ]
    },
    {
      "cell_type": "markdown",
      "metadata": {
        "id": "UAh-wWMDkqXm"
      },
      "source": [
        "## Part 3: Diagnostic plots for gradient descent"
      ]
    },
    {
      "cell_type": "markdown",
      "metadata": {
        "id": "rehe_iYnkqXm"
      },
      "source": [
        "Let's look at some trace functions.\n",
        "\n",
        "Whenever you run gradient descent, an *excellent* debugging strategy is the ability to plot the loss, the gradient magnitude, and the parameter of interest at every step of the algorithm."
      ]
    },
    {
      "cell_type": "code",
      "execution_count": 37,
      "metadata": {
        "id": "wXC46aoSkqXn",
        "colab": {
          "base_uri": "https://localhost:8080/",
          "height": 272
        },
        "outputId": "0bc99b7f-eecf-4896-955a-9f7a2b88f468"
      },
      "outputs": [
        {
          "output_type": "display_data",
          "data": {
            "text/plain": [
              "<Figure size 1296x259.2 with 3 Axes>"
            ],
            "image/png": "[encoded data removed]"
          },
          "metadata": {}
        }
      ],
      "source": [
        "fig, axes = plt.subplots(nrows=1, ncols=3, sharex=True, sharey=False, figsize=(18,3.6))\n",
        "\n",
        "axes[0].plot(info_dict['trace_loss_list']);\n",
        "axes[0].set_title('loss');\n",
        "axes[1].plot(info_dict['trace_grad_list']);\n",
        "axes[1].set_title('grad');\n",
        "axes[2].plot(info_dict['trace_w_list']);\n",
        "axes[2].set_title('w');\n",
        "\n",
        "plt.xlim([0, 100]);"
      ]
    },
    {
      "cell_type": "markdown",
      "metadata": {
        "id": "QxCSbgFmkqXn"
      },
      "source": [
        "### Discussion 3a: What value do we expect the *loss* to converge to? Should it always be zero?\n",
        "\n",
        "#### My answer :the value should be minimized as possible, rarely in regression problem loss = 0 bec in most cases that mean that model is overfitted means do will on trainning data and poorly on testing we can know that by comparing the accuracy but our objective is too decrease the loss as we can but not to zero bec logically our model can not fitt all points our objective is too reach to the best fit line which do will on trainning and testing "
      ]
    },
    {
      "cell_type": "markdown",
      "metadata": {
        "id": "zdSXaGUFkqXn"
      },
      "source": [
        "### Discussion 3b: What value do we expect the *gradient* to converge to? Should it always be zero?\n",
        "\n",
        "#### My answer : converge to a nubmer nearly to zero , by looking at the function we know that we perform partial derv for every weigth means getting the slope of curve and we search for the slope that is parallel to x axis mean equal to zero means that the value at this point will get the min for the function and not always converge to zero\n"
      ]
    },
    {
      "cell_type": "markdown",
      "metadata": {
        "id": "ACXRJYAlkqXn"
      },
      "source": [
        "# Part 4: Larger step sizes\n",
        "\n",
        "## Try with larger step_size = 0.014"
      ]
    },
    {
      "cell_type": "code",
      "execution_count": 38,
      "metadata": {
        "id": "Gk0SLdSskqXo",
        "colab": {
          "base_uri": "https://localhost:8080/"
        },
        "outputId": "7056e11e-7875-4781-9818-4b2780df9110"
      },
      "outputs": [
        {
          "output_type": "stream",
          "name": "stdout",
          "text": [
            "  iter     0/100 | w        0.00000 | loss       93.3197 | grad     -156.5566\n",
            "  iter     1/100 | w        2.19179 | loss       83.5157 | grad      147.6105\n",
            "  iter     2/100 | w        0.12525 | loss       74.8002 | grad     -139.1756\n",
            "  iter     3/100 | w        2.07370 | loss       67.0522 | grad      131.2227\n",
            "  iter     4/100 | w        0.23659 | loss       60.1645 | grad     -123.7243\n",
            "  iter     5/100 | w        1.96873 | loss       54.0414 | grad      116.6543\n",
            "  iter     6/100 | w        0.33557 | loss       48.5981 | grad     -109.9884\n",
            "  iter     7/100 | w        1.87540 | loss       43.7591 | grad      103.7033\n",
            "  iter     8/100 | w        0.42356 | loss       39.4574 | grad      -97.7774\n",
            "  iter     9/100 | w        1.79244 | loss       35.6332 | grad       92.1901\n",
            "  iter    10/100 | w        0.50178 | loss       32.2336 | grad      -86.9221\n",
            "  iter    11/100 | w        1.71869 | loss       29.2114 | grad       81.9551\n",
            "  iter    12/100 | w        0.57132 | loss       26.5248 | grad      -77.2720\n",
            "  iter    13/100 | w        1.65312 | loss       24.1364 | grad       72.8564\n",
            "  iter    14/100 | w        0.63313 | loss       22.0132 | grad      -68.6932\n",
            "  iter    15/100 | w        1.59484 | loss       20.1257 | grad       64.7679\n",
            "  iter    16/100 | w        0.68809 | loss       18.4477 | grad      -61.0669\n",
            "  iter    17/100 | w        1.54302 | loss       16.9560 | grad       57.5773\n",
            "  iter    18/100 | w        0.73694 | loss       15.6300 | grad      -54.2872\n",
            "  iter    19/100 | w        1.49696 | loss       14.4511 | grad       51.1851\n",
            "  iter    20/100 | w        0.78037 | loss       13.4032 | grad      -48.2602\n",
            "  iter    21/100 | w        1.45601 | loss       12.4716 | grad       45.5025\n",
            "  iter    22/100 | w        0.81898 | loss       11.6434 | grad      -42.9023\n",
            "  iter    23/100 | w        1.41961 | loss       10.9071 | grad       40.4508\n",
            "  iter    24/100 | w        0.85330 | loss       10.2526 | grad      -38.1393\n",
            "  iter    25/100 | w        1.38725 | loss        9.6708 | grad       35.9599\n",
            "  iter    26/100 | w        0.88381 | loss        9.1535 | grad      -33.9051\n",
            "  iter    27/100 | w        1.35848 | loss        8.6937 | grad       31.9676\n",
            "  iter    28/100 | w        0.91094 | loss        8.2849 | grad      -30.1409\n",
            "  iter    29/100 | w        1.33291 | loss        7.9216 | grad       28.4186\n",
            "  iter    30/100 | w        0.93505 | loss        7.5985 | grad      -26.7947\n",
            "  iter    31/100 | w        1.31017 | loss        7.3113 | grad       25.2635\n",
            "  iter    32/100 | w        0.95648 | loss        7.0560 | grad      -23.8199\n",
            "  iter    33/100 | w        1.28996 | loss        6.8291 | grad       22.4588\n",
            "  iter    34/100 | w        0.97554 | loss        6.6273 | grad      -21.1754\n",
            "  iter    35/100 | w        1.27200 | loss        6.4480 | grad       19.9654\n",
            "  iter    36/100 | w        0.99248 | loss        6.2885 | grad      -18.8245\n",
            "  iter    37/100 | w        1.25602 | loss        6.1468 | grad       17.7488\n",
            "  iter    38/100 | w        1.00754 | loss        6.0208 | grad      -16.7346\n",
            "  iter    39/100 | w        1.24183 | loss        5.9087 | grad       15.7783\n",
            "  iter    40/100 | w        1.02093 | loss        5.8092 | grad      -14.8767\n",
            "  iter    41/100 | w        1.22920 | loss        5.7206 | grad       14.0266\n",
            "  iter    42/100 | w        1.03283 | loss        5.6419 | grad      -13.2251\n",
            "  iter    43/100 | w        1.21798 | loss        5.5720 | grad       12.4694\n",
            "  iter    44/100 | w        1.04341 | loss        5.5098 | grad      -11.7568\n",
            "  iter    45/100 | w        1.20801 | loss        5.4545 | grad       11.0850\n",
            "  iter    46/100 | w        1.05282 | loss        5.4053 | grad      -10.4516\n",
            "  iter    47/100 | w        1.19914 | loss        5.3616 | grad        9.8544\n",
            "  iter    48/100 | w        1.06118 | loss        5.3228 | grad       -9.2913\n",
            "  iter    49/100 | w        1.19125 | loss        5.2883 | grad        8.7603\n",
            "  iter    50/100 | w        1.06861 | loss        5.2576 | grad       -8.2597\n",
            "  iter    51/100 | w        1.18425 | loss        5.2303 | grad        7.7878\n",
            "  iter    52/100 | w        1.07522 | loss        5.2060 | grad       -7.3427\n",
            "  iter    53/100 | w        1.17802 | loss        5.1844 | grad        6.9232\n",
            "  iter    54/100 | w        1.08109 | loss        5.1653 | grad       -6.5275\n",
            "  iter    55/100 | w        1.17248 | loss        5.1482 | grad        6.1545\n",
            "  iter    56/100 | w        1.08631 | loss        5.1331 | grad       -5.8029\n",
            "  iter    57/100 | w        1.16755 | loss        5.1196 | grad        5.4713\n",
            "  iter    58/100 | w        1.09096 | loss        5.1076 | grad       -5.1586\n",
            "  iter    59/100 | w        1.16318 | loss        5.0970 | grad        4.8638\n",
            "  iter    60/100 | w        1.09508 | loss        5.0875 | grad       -4.5859\n",
            "  iter    61/100 | w        1.15929 | loss        5.0791 | grad        4.3239\n",
            "  iter    62/100 | w        1.09875 | loss        5.0716 | grad       -4.0768\n",
            "  iter    63/100 | w        1.15583 | loss        5.0650 | grad        3.8438\n",
            "  iter    64/100 | w        1.10201 | loss        5.0591 | grad       -3.6242\n",
            "  iter    65/100 | w        1.15275 | loss        5.0538 | grad        3.4171\n",
            "  iter    66/100 | w        1.10491 | loss        5.0492 | grad       -3.2218\n",
            "  iter    67/100 | w        1.15002 | loss        5.0450 | grad        3.0377\n",
            "  iter    68/100 | w        1.10749 | loss        5.0413 | grad       -2.8641\n",
            "  iter    69/100 | w        1.14759 | loss        5.0380 | grad        2.7005\n",
            "  iter    70/100 | w        1.10978 | loss        5.0351 | grad       -2.5462\n",
            "  iter    71/100 | w        1.14543 | loss        5.0325 | grad        2.4007\n",
            "  iter    72/100 | w        1.11182 | loss        5.0302 | grad       -2.2635\n",
            "  iter    73/100 | w        1.14351 | loss        5.0282 | grad        2.1341\n",
            "  iter    74/100 | w        1.11363 | loss        5.0263 | grad       -2.0122\n",
            "  iter    75/100 | w        1.14180 | loss        5.0247 | grad        1.8972\n",
            "  iter    76/100 | w        1.11524 | loss        5.0233 | grad       -1.7888\n",
            "  iter    77/100 | w        1.14028 | loss        5.0220 | grad        1.6866\n",
            "  iter    78/100 | w        1.11667 | loss        5.0209 | grad       -1.5902\n",
            "  iter    79/100 | w        1.13893 | loss        5.0199 | grad        1.4993\n",
            "  iter    80/100 | w        1.11794 | loss        5.0190 | grad       -1.4137\n",
            "  iter    81/100 | w        1.13773 | loss        5.0182 | grad        1.3329\n",
            "  iter    82/100 | w        1.11907 | loss        5.0175 | grad       -1.2567\n",
            "  iter    83/100 | w        1.13667 | loss        5.0168 | grad        1.1849\n",
            "  iter    84/100 | w        1.12008 | loss        5.0163 | grad       -1.1172\n",
            "  iter    85/100 | w        1.13572 | loss        5.0158 | grad        1.0533\n",
            "  iter    86/100 | w        1.12097 | loss        5.0153 | grad       -0.9932\n",
            "  iter    87/100 | w        1.13488 | loss        5.0149 | grad        0.9364\n",
            "  iter    88/100 | w        1.12177 | loss        5.0146 | grad       -0.8829\n",
            "  iter    89/100 | w        1.13413 | loss        5.0143 | grad        0.8324\n",
            "  iter    90/100 | w        1.12247 | loss        5.0140 | grad       -0.7849\n",
            "  iter    91/100 | w        1.13346 | loss        5.0137 | grad        0.7400\n",
            "  iter    92/100 | w        1.12310 | loss        5.0135 | grad       -0.6977\n",
            "  iter    93/100 | w        1.13287 | loss        5.0133 | grad        0.6579\n",
            "  iter    94/100 | w        1.12366 | loss        5.0131 | grad       -0.6203\n",
            "  iter    95/100 | w        1.13234 | loss        5.0130 | grad        0.5848\n",
            "  iter    96/100 | w        1.12415 | loss        5.0129 | grad       -0.5514\n",
            "  iter    97/100 | w        1.13187 | loss        5.0127 | grad        0.5199\n",
            "  iter    98/100 | w        1.12460 | loss        5.0126 | grad       -0.4902\n",
            "  iter    99/100 | w        1.13146 | loss        5.0125 | grad        0.4622\n"
          ]
        }
      ],
      "source": [
        "wopt, info_dict = minimize_via_grad_descent(calc_loss, calc_grad, step_size=0.014);"
      ]
    },
    {
      "cell_type": "code",
      "execution_count": 39,
      "metadata": {
        "id": "ZofWOunSkqXo",
        "colab": {
          "base_uri": "https://localhost:8080/",
          "height": 239
        },
        "outputId": "d262c205-6192-4537-e79d-36952962c638"
      },
      "outputs": [
        {
          "output_type": "display_data",
          "data": {
            "text/plain": [
              "<Figure size 864x216 with 3 Axes>"
            ],
            "image/png": "[encoded data removed]"
          },
          "metadata": {}
        }
      ],
      "source": [
        "fig, axes = plt.subplots(nrows=1, ncols=3, sharex=True, sharey=False, figsize=(12,3))\n",
        "\n",
        "axes[0].plot(info_dict['trace_loss_list'], '.-');\n",
        "axes[0].set_title('loss');\n",
        "axes[1].plot(info_dict['trace_grad_list'], '.-');\n",
        "axes[1].set_title('grad');\n",
        "axes[2].plot(info_dict['trace_w_list'], '.-');\n",
        "axes[2].set_title('w');"
      ]
    },
    {
      "cell_type": "markdown",
      "metadata": {
        "id": "x0d4sIGjkqXo"
      },
      "source": [
        "### Discussion 4a: What happens here? How is this step size different than in Part 3 above?\n",
        "\n",
        " #### My answer : by increaseing the step size (learning rate) that loss fucntion and the grad will not converge"
      ]
    },
    {
      "cell_type": "markdown",
      "metadata": {
        "id": "CJVl51GZkqXo"
      },
      "source": [
        "TODO discuss with your group"
      ]
    },
    {
      "cell_type": "markdown",
      "metadata": {
        "id": "Kp7_uNlgkqXp"
      },
      "source": [
        "## Try with even larger step size 0.1"
      ]
    },
    {
      "cell_type": "code",
      "execution_count": 40,
      "metadata": {
        "id": "a4mNCMcPkqXp",
        "outputId": "2fc94ce6-5b1e-4631-e111-b8514c181d50",
        "colab": {
          "base_uri": "https://localhost:8080/"
        }
      },
      "outputs": [
        {
          "output_type": "stream",
          "name": "stdout",
          "text": [
            "  iter     0/25 | w        0.00000 | loss       93.3197 | grad     -156.5566\n",
            "  iter     1/25 | w       15.65566 | loss    14649.2368 | grad     2016.0654\n",
            "  iter     2/25 | w     -185.95088 | loss  2428476.1808 | grad   -25961.9847\n",
            "  iter     3/25 | w     2410.24759 | loss  402716585.2503 | grad   334326.7829\n",
            "  iter     4/25 | w   -31022.43070 | loss  66783022205.9171 | grad -4305310.2046\n",
            "  iter     5/25 | w   399508.58976 | loss  11074716744084.4141 | grad  55441851.8184\n",
            "  iter     6/25 | w  -5144676.59208 | loss  1836534899433323.2500 | grad -713955275.4570\n",
            "  iter     7/25 | w   66250850.95363 | loss  304555007119229056.0000 | grad  9193995485.9874\n",
            "  iter     8/25 | w  -853148697.64512 | loss  50504758929445773312.0000 | grad -118396145952.2056\n",
            "  iter     9/25 | w   10986465897.57544 | loss  8375270853855496110080.0000 | grad  1524652410119.2183\n",
            "  iter    10/25 | w  -141478775114.34641 | loss  1388882223424388487708672.0000 | grad -19633789199698.5000\n",
            "  iter    11/25 | w   1821900144855.50366 | loss  230320172828353878072229888.0000 | grad  252835122143056.1250\n",
            "  iter    12/25 | w  -23461612069450.10938 | loss  38194298347984235566746042368.0000 | grad -3255897185148334.0000\n",
            "  iter    13/25 | w   302128106445383.31250 | loss  6333810922337253002324901625856.0000 | grad  41927982118950984.0000\n",
            "  iter    14/25 | w  -3890670105449715.00000 | loss  1050344227675435594616612241539072.0000 | grad -539929728919552256.0000\n",
            "  iter    15/25 | w   50102302786505520.00000 | loss  174179970027271567056475537700552704.0000 | grad  6952972631596682240.0000\n",
            "  iter    16/25 | w  -645194960373162752.00000 | loss  28884494396513295581582150224859627520.0000 | grad -89537259806887870464.0000\n",
            "  iter    17/25 | w   8308531020315624448.00000 | loss  4789953841486933888993409867170069872640.0000 | grad  1153020631390739496960.0000\n",
            "  iter    18/25 | w  -106993532118758326272.00000 | loss  794324369629436915247881923050492605235200.0000 | grad -14848082008317477519360.0000\n",
            "  iter    19/25 | w   1377814668712989425664.00000 | loss  131723858948782180577106647540510996691943424.0000 | grad  191206933617312775798784.0000\n",
            "  iter    20/25 | w  -17742878693018289831936.00000 | loss  21843941442276573541864616173554104972001411072.0000 | grad -2462277043112741494063104.0000\n",
            "  iter    21/25 | w   228484825618255890612224.00000 | loss  3622409649561965380207861922238472078510690140160.0000 | grad  31708098249064074287513600.0000\n",
            "  iter    22/25 | w  -2942324999288151773020160.00000 | loss  600708974793519752090966724917105170766253120290816.0000 | grad -408322652962437261462339584.0000\n",
            "  iter    23/25 | w   37889940296955572118355968.00000 | loss  99616362395986024613809581522281286396676988509093888.0000 | grad  5258195796312200821216378880.0000\n",
            "  iter    24/25 | w  -487929639334264484233478144.00000 | loss  16519512897937594771338113222367982867942815032542232576.0000 | grad -67712684642306077575404847104.0000\n"
          ]
        }
      ],
      "source": [
        "wopt, info_dict = minimize_via_grad_descent(calc_loss, calc_grad, step_size=0.1, max_iters=25);"
      ]
    },
    {
      "cell_type": "markdown",
      "metadata": {
        "id": "DXb1QfwnkqXp"
      },
      "source": [
        "### Discussion 3b: What happens here with this even larger step size? Is it converging?\n",
        "\n",
        "#### My answer : the loss increase bec the learning rate increae , here we do not converge"
      ]
    },
    {
      "cell_type": "markdown",
      "metadata": {
        "id": "3B1WrT_KkqXp"
      },
      "source": [
        "### Exercise 3c: What is the largest step size you can get to converge reasonably?"
      ]
    },
    {
      "cell_type": "code",
      "execution_count": 41,
      "metadata": {
        "id": "cZp-d7eVkqXp",
        "colab": {
          "base_uri": "https://localhost:8080/"
        },
        "outputId": "1ba21070-7e52-42de-b79e-c94240e7445d"
      },
      "outputs": [
        {
          "output_type": "stream",
          "name": "stdout",
          "text": [
            "  iter     0/100 | w        0.00000 | loss       93.3197 | grad     -156.5566\n",
            "  iter     1/100 | w        1.56557 | loss       18.2892 | grad       60.7056\n",
            "  iter     2/100 | w        0.95851 | loss        7.0081 | grad      -23.5389\n",
            "  iter     3/100 | w        1.19390 | loss        5.3119 | grad        9.1273\n",
            "  iter     4/100 | w        1.10263 | loss        5.0569 | grad       -3.5392\n",
            "  iter     5/100 | w        1.13802 | loss        5.0185 | grad        1.3723\n",
            "  iter     6/100 | w        1.12429 | loss        5.0128 | grad       -0.5321\n",
            "  iter     7/100 | w        1.12962 | loss        5.0119 | grad        0.2063\n",
            "  iter     8/100 | w        1.12755 | loss        5.0118 | grad       -0.0800\n",
            "  iter     9/100 | w        1.12835 | loss        5.0118 | grad        0.0310\n",
            "  iter    10/100 | w        1.12804 | loss        5.0118 | grad       -0.0120\n",
            "  iter    11/100 | w        1.12816 | loss        5.0118 | grad        0.0047\n",
            "  iter    12/100 | w        1.12812 | loss        5.0118 | grad       -0.0018\n",
            "  iter    13/100 | w        1.12813 | loss        5.0118 | grad        0.0007\n",
            "  iter    14/100 | w        1.12813 | loss        5.0118 | grad       -0.0003\n",
            "  iter    15/100 | w        1.12813 | loss        5.0118 | grad        0.0001\n",
            "  iter    16/100 | w        1.12813 | loss        5.0118 | grad       -0.0000\n",
            "  iter    17/100 | w        1.12813 | loss        5.0118 | grad        0.0000\n",
            "  iter    18/100 | w        1.12813 | loss        5.0118 | grad       -0.0000\n",
            "  iter    19/100 | w        1.12813 | loss        5.0118 | grad        0.0000\n",
            "  iter    20/100 | w        1.12813 | loss        5.0118 | grad       -0.0000\n",
            "  iter    21/100 | w        1.12813 | loss        5.0118 | grad        0.0000\n",
            "  iter    22/100 | w        1.12813 | loss        5.0118 | grad       -0.0000\n",
            "  iter    23/100 | w        1.12813 | loss        5.0118 | grad        0.0000\n",
            "  iter    24/100 | w        1.12813 | loss        5.0118 | grad       -0.0000\n",
            "  iter    25/100 | w        1.12813 | loss        5.0118 | grad        0.0000\n",
            "  iter    26/100 | w        1.12813 | loss        5.0118 | grad       -0.0000\n",
            "  iter    27/100 | w        1.12813 | loss        5.0118 | grad        0.0000\n",
            "  iter    28/100 | w        1.12813 | loss        5.0118 | grad       -0.0000\n",
            "  iter    29/100 | w        1.12813 | loss        5.0118 | grad        0.0000\n",
            "  iter    30/100 | w        1.12813 | loss        5.0118 | grad       -0.0000\n",
            "  iter    31/100 | w        1.12813 | loss        5.0118 | grad        0.0000\n",
            "  iter    32/100 | w        1.12813 | loss        5.0118 | grad       -0.0000\n",
            "  iter    33/100 | w        1.12813 | loss        5.0118 | grad        0.0000\n",
            "  iter    34/100 | w        1.12813 | loss        5.0118 | grad       -0.0000\n",
            "  iter    35/100 | w        1.12813 | loss        5.0118 | grad        0.0000\n",
            "  iter    36/100 | w        1.12813 | loss        5.0118 | grad       -0.0000\n",
            "  iter    37/100 | w        1.12813 | loss        5.0118 | grad        0.0000\n",
            "  iter    38/100 | w        1.12813 | loss        5.0118 | grad       -0.0000\n",
            "  iter    39/100 | w        1.12813 | loss        5.0118 | grad        0.0000\n",
            "  iter    40/100 | w        1.12813 | loss        5.0118 | grad       -0.0000\n",
            "  iter    41/100 | w        1.12813 | loss        5.0118 | grad        0.0000\n",
            "  iter    42/100 | w        1.12813 | loss        5.0118 | grad       -0.0000\n",
            "  iter    43/100 | w        1.12813 | loss        5.0118 | grad        0.0000\n",
            "  iter    44/100 | w        1.12813 | loss        5.0118 | grad       -0.0000\n",
            "  iter    45/100 | w        1.12813 | loss        5.0118 | grad        0.0000\n",
            "  iter    46/100 | w        1.12813 | loss        5.0118 | grad       -0.0000\n",
            "  iter    47/100 | w        1.12813 | loss        5.0118 | grad        0.0000\n",
            "  iter    48/100 | w        1.12813 | loss        5.0118 | grad       -0.0000\n",
            "  iter    49/100 | w        1.12813 | loss        5.0118 | grad        0.0000\n",
            "  iter    50/100 | w        1.12813 | loss        5.0118 | grad       -0.0000\n",
            "  iter    51/100 | w        1.12813 | loss        5.0118 | grad        0.0000\n",
            "  iter    52/100 | w        1.12813 | loss        5.0118 | grad       -0.0000\n",
            "  iter    53/100 | w        1.12813 | loss        5.0118 | grad        0.0000\n",
            "  iter    54/100 | w        1.12813 | loss        5.0118 | grad       -0.0000\n",
            "  iter    55/100 | w        1.12813 | loss        5.0118 | grad        0.0000\n",
            "  iter    56/100 | w        1.12813 | loss        5.0118 | grad       -0.0000\n",
            "  iter    57/100 | w        1.12813 | loss        5.0118 | grad        0.0000\n",
            "  iter    58/100 | w        1.12813 | loss        5.0118 | grad       -0.0000\n",
            "  iter    59/100 | w        1.12813 | loss        5.0118 | grad        0.0000\n",
            "  iter    60/100 | w        1.12813 | loss        5.0118 | grad       -0.0000\n",
            "  iter    61/100 | w        1.12813 | loss        5.0118 | grad        0.0000\n",
            "  iter    62/100 | w        1.12813 | loss        5.0118 | grad       -0.0000\n",
            "  iter    63/100 | w        1.12813 | loss        5.0118 | grad        0.0000\n",
            "  iter    64/100 | w        1.12813 | loss        5.0118 | grad       -0.0000\n",
            "  iter    65/100 | w        1.12813 | loss        5.0118 | grad        0.0000\n",
            "  iter    66/100 | w        1.12813 | loss        5.0118 | grad       -0.0000\n",
            "  iter    67/100 | w        1.12813 | loss        5.0118 | grad        0.0000\n",
            "  iter    68/100 | w        1.12813 | loss        5.0118 | grad       -0.0000\n",
            "  iter    69/100 | w        1.12813 | loss        5.0118 | grad        0.0000\n",
            "  iter    70/100 | w        1.12813 | loss        5.0118 | grad       -0.0000\n",
            "  iter    71/100 | w        1.12813 | loss        5.0118 | grad        0.0000\n",
            "  iter    72/100 | w        1.12813 | loss        5.0118 | grad       -0.0000\n",
            "  iter    73/100 | w        1.12813 | loss        5.0118 | grad        0.0000\n",
            "  iter    74/100 | w        1.12813 | loss        5.0118 | grad       -0.0000\n",
            "  iter    75/100 | w        1.12813 | loss        5.0118 | grad        0.0000\n",
            "  iter    76/100 | w        1.12813 | loss        5.0118 | grad       -0.0000\n",
            "  iter    77/100 | w        1.12813 | loss        5.0118 | grad        0.0000\n",
            "  iter    78/100 | w        1.12813 | loss        5.0118 | grad       -0.0000\n",
            "  iter    79/100 | w        1.12813 | loss        5.0118 | grad        0.0000\n",
            "  iter    80/100 | w        1.12813 | loss        5.0118 | grad       -0.0000\n",
            "  iter    81/100 | w        1.12813 | loss        5.0118 | grad        0.0000\n",
            "  iter    82/100 | w        1.12813 | loss        5.0118 | grad       -0.0000\n",
            "  iter    83/100 | w        1.12813 | loss        5.0118 | grad        0.0000\n",
            "  iter    84/100 | w        1.12813 | loss        5.0118 | grad       -0.0000\n",
            "  iter    85/100 | w        1.12813 | loss        5.0118 | grad        0.0000\n",
            "  iter    86/100 | w        1.12813 | loss        5.0118 | grad       -0.0000\n",
            "  iter    87/100 | w        1.12813 | loss        5.0118 | grad        0.0000\n",
            "  iter    88/100 | w        1.12813 | loss        5.0118 | grad       -0.0000\n",
            "  iter    89/100 | w        1.12813 | loss        5.0118 | grad        0.0000\n",
            "  iter    90/100 | w        1.12813 | loss        5.0118 | grad       -0.0000\n",
            "  iter    91/100 | w        1.12813 | loss        5.0118 | grad        0.0000\n",
            "  iter    92/100 | w        1.12813 | loss        5.0118 | grad       -0.0000\n",
            "  iter    93/100 | w        1.12813 | loss        5.0118 | grad        0.0000\n",
            "  iter    94/100 | w        1.12813 | loss        5.0118 | grad       -0.0000\n",
            "  iter    95/100 | w        1.12813 | loss        5.0118 | grad        0.0000\n",
            "  iter    96/100 | w        1.12813 | loss        5.0118 | grad       -0.0000\n",
            "  iter    97/100 | w        1.12813 | loss        5.0118 | grad        0.0000\n",
            "  iter    98/100 | w        1.12813 | loss        5.0118 | grad       -0.0000\n",
            "  iter    99/100 | w        1.12813 | loss        5.0118 | grad        0.0000\n"
          ]
        }
      ],
      "source": [
        "# TODO try some other step sizes here\n",
        "wopt, info_dict = minimize_via_grad_descent(calc_loss, calc_grad, step_size=0.01) # TODO fix step_size"
      ]
    },
    {
      "cell_type": "markdown",
      "metadata": {
        "id": "K80J1T5bkqXq"
      },
      "source": [
        "# Part 5: Sensitivity to initial conditions\n",
        "\n"
      ]
    },
    {
      "cell_type": "markdown",
      "metadata": {
        "id": "3x30kQFxkqXq"
      },
      "source": [
        "### Exercise 5a: Try to call the defined procedure with a different initial condition for $w$. What happens?\n",
        "\n",
        "You could try $w = 5.0$ or something else."
      ]
    },
    {
      "cell_type": "code",
      "execution_count": 42,
      "metadata": {
        "id": "581zF82NkqXq",
        "colab": {
          "base_uri": "https://localhost:8080/"
        },
        "outputId": "e969b917-6248-4008-ee31-747b9ef6d453"
      },
      "outputs": [
        {
          "output_type": "stream",
          "name": "stdout",
          "text": [
            "  iter     0/10 | w        0.00000 | loss       93.3197 | grad     -156.5566\n",
            "  iter     1/10 | w        0.78278 | loss       13.2872 | grad      -47.9255\n",
            "  iter     2/10 | w        1.02241 | loss        5.7873 | grad      -14.6711\n",
            "  iter     3/10 | w        1.09577 | loss        5.0844 | grad       -4.4911\n",
            "  iter     4/10 | w        1.11822 | loss        5.0186 | grad       -1.3748\n",
            "  iter     5/10 | w        1.12510 | loss        5.0124 | grad       -0.4209\n",
            "  iter     6/10 | w        1.12720 | loss        5.0118 | grad       -0.1288\n",
            "  iter     7/10 | w        1.12784 | loss        5.0118 | grad       -0.0394\n",
            "  iter     8/10 | w        1.12804 | loss        5.0118 | grad       -0.0121\n",
            "  iter     9/10 | w        1.12810 | loss        5.0118 | grad       -0.0037\n"
          ]
        }
      ],
      "source": [
        "# TODO try some other initial condition for init_w\n",
        "wopt2, info_dict2 = minimize_via_grad_descent(calc_loss, calc_grad, init_w=0, step_size=0.005, max_iters=10) # TODO fix step_size"
      ]
    },
    {
      "cell_type": "markdown",
      "metadata": {
        "id": "5HFGC7AgkqXr"
      },
      "source": [
        "### Exercise 5b: Try again with another initial value. "
      ]
    },
    {
      "cell_type": "code",
      "execution_count": 43,
      "metadata": {
        "id": "wdZucfZ7kqXr",
        "colab": {
          "base_uri": "https://localhost:8080/"
        },
        "outputId": "c325ea95-cbd8-47e8-acc7-fa5fc9840b03"
      },
      "outputs": [
        {
          "output_type": "stream",
          "name": "stdout",
          "text": [
            "  iter     0/10 | w        0.00000 | loss       93.3197 | grad     -156.5566\n",
            "  iter     1/10 | w        3.13113 | loss      283.3970 | grad      277.9678\n",
            "  iter     2/10 | w       -2.42822 | loss      882.6035 | grad     -493.5347\n",
            "  iter     3/10 | w        7.44247 | loss     2771.5640 | grad      876.2759\n",
            "  iter     4/10 | w      -10.08305 | loss     8726.3919 | grad    -1555.8367\n",
            "  iter     5/10 | w       21.03369 | loss    27498.6087 | grad     2762.4040\n",
            "  iter     6/10 | w      -34.21439 | loss    86676.8297 | grad    -4904.6765\n",
            "  iter     7/10 | w       63.87914 | loss   273232.4129 | grad     8708.3032\n",
            "  iter     8/10 | w     -110.28693 | loss   861337.0398 | grad   -15461.6811\n",
            "  iter     9/10 | w      198.94670 | loss  2715299.5225 | grad    27452.3726\n"
          ]
        }
      ],
      "source": [
        "# TODO try some other initial condition for init_w\n",
        "wopt3, info_dict3 = minimize_via_grad_descent(calc_loss, calc_grad, init_w=0, step_size=0.02, max_iters=10) # TODO fix"
      ]
    },
    {
      "cell_type": "markdown",
      "metadata": {
        "id": "Glqy1VB8kqXr"
      },
      "source": [
        "### Exercise 5c: Make a trace plot\n",
        "\n",
        "Make a trace plot showing convergence from multiple different starting values for $w$. What do you notice?"
      ]
    },
    {
      "cell_type": "code",
      "execution_count": 44,
      "metadata": {
        "id": "XTDV4dNHkqXr",
        "colab": {
          "base_uri": "https://localhost:8080/",
          "height": 239
        },
        "outputId": "ff760969-ceae-4ec8-e6fb-007189b43d6d"
      },
      "outputs": [
        {
          "output_type": "display_data",
          "data": {
            "text/plain": [
              "<Figure size 864x216 with 3 Axes>"
            ],
            "image/png": "[encoded data removed]"
          },
          "metadata": {}
        }
      ],
      "source": [
        "# TODO\n",
        "#plt.plot(info_dict2['trace_w_list'], '.-');\n",
        "#plt.title('w');\n",
        "fig, axes = plt.subplots(nrows=1, ncols=3, sharex=True, sharey=False, figsize=(12,3))\n",
        "\n",
        "axes[0].plot(info_dict2['trace_loss_list'], '.-');\n",
        "axes[0].set_title('loss');\n",
        "axes[1].plot(info_dict2['trace_grad_list'], '.-');\n",
        "axes[1].set_title('grad');\n",
        "axes[2].plot(info_dict2['trace_w_list'], '.-');\n",
        "axes[2].set_title('w');"
      ]
    },
    {
      "cell_type": "markdown",
      "metadata": {
        "id": "nXJA4CL3kqXs"
      },
      "source": [
        "# Part 6: Using scipy's built-in gradient optimization tools\n"
      ]
    },
    {
      "cell_type": "code",
      "execution_count": null,
      "metadata": {
        "id": "lYZQeGzDkqXs"
      },
      "outputs": [],
      "source": [
        "import scipy.optimize"
      ]
    },
    {
      "cell_type": "markdown",
      "metadata": {
        "id": "3L2vDkhxkqXs"
      },
      "source": [
        "Take a look at SciPy's built in minimization toolbox\n",
        "\n",
        "<https://docs.scipy.org/doc/scipy/reference/generated/scipy.optimize.minimize.html#scipy.optimize.minimize>\n",
        "\n",
        "We'll use \"L-BFGS\", a second-order method that uses the function and its gradient.\n",
        "\n",
        "This is a \"quasi-newton\" method, which you can get an intuition for here:\n",
        "\n",
        "https://en.wikipedia.org/wiki/Newton%27s_method_in_optimization"
      ]
    },
    {
      "cell_type": "code",
      "execution_count": null,
      "metadata": {
        "id": "f49znI6XkqXt"
      },
      "outputs": [],
      "source": [
        "result = scipy.optimize.minimize(calc_loss, 0.0, jac=calc_grad, method='L-BFGS-B')\n",
        "\n",
        "# Returns an object with several fields, let's print the result to get an idea\n",
        "print(result)"
      ]
    },
    {
      "cell_type": "code",
      "execution_count": null,
      "metadata": {
        "id": "zkS3LPjKkqXt"
      },
      "outputs": [],
      "source": [
        "print(str(result.message))"
      ]
    },
    {
      "cell_type": "code",
      "execution_count": null,
      "metadata": {
        "id": "JFR_eQk7kqXu"
      },
      "outputs": [],
      "source": [
        "best_w = result.x\n",
        "print(best_w)"
      ]
    },
    {
      "cell_type": "code",
      "execution_count": null,
      "metadata": {
        "id": "zUdCjT-dkqXu",
        "colab": {
          "base_uri": "https://localhost:8080/"
        },
        "outputId": "194a96e2-6174-4bf5-9c60-c033ab047b04"
      },
      "outputs": [
        {
          "output_type": "stream",
          "name": "stdout",
          "text": [
            "[1 2]\n",
            "[3 4]\n",
            "8\n"
          ]
        }
      ],
      "source": [
        "x = np.arange(1,3)\n",
        "print(x)\n",
        "y = np.asarray([3,4])\n",
        "print(y)\n",
        "z = np.sum((y - x)**2)\n",
        "print(z)"
      ]
    }
  ],
  "metadata": {
    "kernelspec": {
      "display_name": "Python 3 (ipykernel)",
      "language": "python",
      "name": "python3"
    },
    "language_info": {
      "codemirror_mode": {
        "name": "ipython",
        "version": 3
      },
      "file_extension": ".py",
      "mimetype": "text/x-python",
      "name": "python",
      "nbconvert_exporter": "python",
      "pygments_lexer": "ipython3",
      "version": "3.9.12"
    },
    "colab": {
      "provenance": [],
      "collapsed_sections": [
        "LwmGuUXnkqXg",
        "sQNNW3HmkqXl",
        "k3NFrLVAkqXl",
        "QxCSbgFmkqXn",
        "zdSXaGUFkqXn",
        "DXb1QfwnkqXp"
      ]
    }
  },
  "nbformat": 4,
  "nbformat_minor": 0
}